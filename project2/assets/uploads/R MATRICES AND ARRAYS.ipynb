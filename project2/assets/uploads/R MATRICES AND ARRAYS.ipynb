{
 "cells": [
  {
   "cell_type": "code",
   "execution_count": 1,
   "metadata": {},
   "outputs": [
    {
     "ename": "SyntaxError",
     "evalue": "invalid syntax (3388789010.py, line 3)",
     "output_type": "error",
     "traceback": [
      "\u001b[1;36m  Input \u001b[1;32mIn [1]\u001b[1;36m\u001b[0m\n\u001b[1;33m    Matrices are advance versions of atomic vectors with dimensions as a special attribute.\u001b[0m\n\u001b[1;37m             ^\u001b[0m\n\u001b[1;31mSyntaxError\u001b[0m\u001b[1;31m:\u001b[0m invalid syntax\n"
     ]
    }
   ],
   "source": [
    "Matrices\n",
    "\n",
    "Matrices are advance versions of atomic vectors with dimensions as a special attribute.\n",
    "\n",
    "Thus,we can say matrices are special kind of vectors.\n",
    "\n",
    "Matrices are two dimensional data structures in R. The dimensions are popularly known as rows and columns.\n",
    "\n",
    "Since they are advance types of atomic vectors, so they can only contain elements of same datatypes.\n",
    "\n",
    "There are different ways to create a matrix in R.\n",
    "\n",
    "Let's discuss about them in detail.\n"
   ]
  },
  {
   "cell_type": "code",
   "execution_count": 2,
   "metadata": {},
   "outputs": [],
   "source": [
    "#using matrix keyword \n",
    "\n",
    "mat = matrix(1:4) #not specifying number of rows and columns"
   ]
  },
  {
   "cell_type": "code",
   "execution_count": 4,
   "metadata": {},
   "outputs": [
    {
     "data": {
      "text/html": [
       "<table>\n",
       "<tbody>\n",
       "\t<tr><td>1</td></tr>\n",
       "\t<tr><td>2</td></tr>\n",
       "\t<tr><td>3</td></tr>\n",
       "\t<tr><td>4</td></tr>\n",
       "</tbody>\n",
       "</table>\n"
      ],
      "text/latex": [
       "\\begin{tabular}{l}\n",
       "\t 1\\\\\n",
       "\t 2\\\\\n",
       "\t 3\\\\\n",
       "\t 4\\\\\n",
       "\\end{tabular}\n"
      ],
      "text/markdown": [
       "\n",
       "| 1 |\n",
       "| 2 |\n",
       "| 3 |\n",
       "| 4 |\n",
       "\n"
      ],
      "text/plain": [
       "     [,1]\n",
       "[1,] 1   \n",
       "[2,] 2   \n",
       "[3,] 3   \n",
       "[4,] 4   "
      ]
     },
     "metadata": {},
     "output_type": "display_data"
    }
   ],
   "source": [
    "mat"
   ]
  },
  {
   "cell_type": "code",
   "execution_count": null,
   "metadata": {},
   "outputs": [],
   "source": [
    "#change the default filling method\n",
    "\n",
    "mat = matrix(1:12,nrow = 4, ncol = 3)"
   ]
  },
  {
   "cell_type": "code",
   "execution_count": null,
   "metadata": {},
   "outputs": [],
   "source": [
    "mat"
   ]
  },
  {
   "cell_type": "markdown",
   "metadata": {},
   "source": []
  },
  {
   "cell_type": "code",
   "execution_count": 13,
   "metadata": {},
   "outputs": [],
   "source": [
    "#change the default filling method\n",
    "\n",
    "mat = matrix(1:12,nrow=4, ncol = 3,byrow=TRUE)"
   ]
  },
  {
   "cell_type": "code",
   "execution_count": 14,
   "metadata": {},
   "outputs": [
    {
     "data": {
      "text/html": [
       "<table>\n",
       "<tbody>\n",
       "\t<tr><td>1 </td><td>5 </td><td> 9</td></tr>\n",
       "\t<tr><td>2 </td><td>6 </td><td>10</td></tr>\n",
       "\t<tr><td>3 </td><td>7 </td><td>11</td></tr>\n",
       "\t<tr><td>4 </td><td>8 </td><td>12</td></tr>\n",
       "</tbody>\n",
       "</table>\n"
      ],
      "text/latex": [
       "\\begin{tabular}{lll}\n",
       "\t 1  & 5  &  9\\\\\n",
       "\t 2  & 6  & 10\\\\\n",
       "\t 3  & 7  & 11\\\\\n",
       "\t 4  & 8  & 12\\\\\n",
       "\\end{tabular}\n"
      ],
      "text/markdown": [
       "\n",
       "| 1  | 5  |  9 |\n",
       "| 2  | 6  | 10 |\n",
       "| 3  | 7  | 11 |\n",
       "| 4  | 8  | 12 |\n",
       "\n"
      ],
      "text/plain": [
       "     [,1] [,2] [,3]\n",
       "[1,] 1    5     9  \n",
       "[2,] 2    6    10  \n",
       "[3,] 3    7    11  \n",
       "[4,] 4    8    12  "
      ]
     },
     "metadata": {},
     "output_type": "display_data"
    }
   ],
   "source": [
    "mat"
   ]
  },
  {
   "cell_type": "code",
   "execution_count": null,
   "metadata": {},
   "outputs": [],
   "source": [
    "dim(mat)"
   ]
  },
  {
   "cell_type": "code",
   "execution_count": null,
   "metadata": {},
   "outputs": [],
   "source": [
    "mat = matrix(1:10,nrow=4, ncol = 3,byrow=TRUE)"
   ]
  },
  {
   "cell_type": "markdown",
   "metadata": {},
   "source": [
    "## you can also give the names of columns and rows in matrix"
   ]
  },
  {
   "cell_type": "code",
   "execution_count": 23,
   "metadata": {},
   "outputs": [],
   "source": [
    "mat = matrix(1:12,nrow=4, ncol = 3,byrow=TRUE, dimnames = (list(c(\"R1\",\"R2\",\"R3\",\"R4\"),\n",
    "                                                                c(\"C1\",\"C2\",\"C3\"))))"
   ]
  },
  {
   "cell_type": "code",
   "execution_count": 25,
   "metadata": {},
   "outputs": [
    {
     "data": {
      "text/html": [
       "<table>\n",
       "<thead><tr><th></th><th scope=col>C1</th><th scope=col>C2</th><th scope=col>C3</th></tr></thead>\n",
       "<tbody>\n",
       "\t<tr><th scope=row>R1</th><td> 1</td><td> 2</td><td> 3</td></tr>\n",
       "\t<tr><th scope=row>R2</th><td> 4</td><td> 5</td><td> 6</td></tr>\n",
       "\t<tr><th scope=row>R3</th><td> 7</td><td> 8</td><td> 9</td></tr>\n",
       "\t<tr><th scope=row>R4</th><td>10</td><td>11</td><td>12</td></tr>\n",
       "</tbody>\n",
       "</table>\n"
      ],
      "text/latex": [
       "\\begin{tabular}{r|lll}\n",
       "  & C1 & C2 & C3\\\\\n",
       "\\hline\n",
       "\tR1 &  1 &  2 &  3\\\\\n",
       "\tR2 &  4 &  5 &  6\\\\\n",
       "\tR3 &  7 &  8 &  9\\\\\n",
       "\tR4 & 10 & 11 & 12\\\\\n",
       "\\end{tabular}\n"
      ],
      "text/markdown": [
       "\n",
       "| <!--/--> | C1 | C2 | C3 |\n",
       "|---|---|---|---|\n",
       "| R1 |  1 |  2 |  3 |\n",
       "| R2 |  4 |  5 |  6 |\n",
       "| R3 |  7 |  8 |  9 |\n",
       "| R4 | 10 | 11 | 12 |\n",
       "\n"
      ],
      "text/plain": [
       "   C1 C2 C3\n",
       "R1  1  2  3\n",
       "R2  4  5  6\n",
       "R3  7  8  9\n",
       "R4 10 11 12"
      ]
     },
     "metadata": {},
     "output_type": "display_data"
    }
   ],
   "source": [
    "mat"
   ]
  },
  {
   "cell_type": "markdown",
   "metadata": {},
   "source": [
    "### you can get column and row names using function colnames and rownames"
   ]
  },
  {
   "cell_type": "code",
   "execution_count": 26,
   "metadata": {},
   "outputs": [
    {
     "data": {
      "text/html": [
       "<ol class=list-inline>\n",
       "\t<li>'R1'</li>\n",
       "\t<li>'R2'</li>\n",
       "\t<li>'R3'</li>\n",
       "\t<li>'R4'</li>\n",
       "</ol>\n"
      ],
      "text/latex": [
       "\\begin{enumerate*}\n",
       "\\item 'R1'\n",
       "\\item 'R2'\n",
       "\\item 'R3'\n",
       "\\item 'R4'\n",
       "\\end{enumerate*}\n"
      ],
      "text/markdown": [
       "1. 'R1'\n",
       "2. 'R2'\n",
       "3. 'R3'\n",
       "4. 'R4'\n",
       "\n",
       "\n"
      ],
      "text/plain": [
       "[1] \"R1\" \"R2\" \"R3\" \"R4\""
      ]
     },
     "metadata": {},
     "output_type": "display_data"
    }
   ],
   "source": [
    "rownames(mat)"
   ]
  },
  {
   "cell_type": "code",
   "execution_count": 27,
   "metadata": {},
   "outputs": [
    {
     "data": {
      "text/html": [
       "<ol class=list-inline>\n",
       "\t<li>'C1'</li>\n",
       "\t<li>'C2'</li>\n",
       "\t<li>'C3'</li>\n",
       "</ol>\n"
      ],
      "text/latex": [
       "\\begin{enumerate*}\n",
       "\\item 'C1'\n",
       "\\item 'C2'\n",
       "\\item 'C3'\n",
       "\\end{enumerate*}\n"
      ],
      "text/markdown": [
       "1. 'C1'\n",
       "2. 'C2'\n",
       "3. 'C3'\n",
       "\n",
       "\n"
      ],
      "text/plain": [
       "[1] \"C1\" \"C2\" \"C3\""
      ]
     },
     "metadata": {},
     "output_type": "display_data"
    }
   ],
   "source": [
    "colnames(mat)"
   ]
  },
  {
   "cell_type": "markdown",
   "metadata": {},
   "source": [
    "## you can get dimension of matrix using dim( function)"
   ]
  },
  {
   "cell_type": "code",
   "execution_count": 17,
   "metadata": {},
   "outputs": [
    {
     "data": {
      "text/html": [
       "<ol class=list-inline>\n",
       "\t<li>4</li>\n",
       "\t<li>3</li>\n",
       "</ol>\n"
      ],
      "text/latex": [
       "\\begin{enumerate*}\n",
       "\\item 4\n",
       "\\item 3\n",
       "\\end{enumerate*}\n"
      ],
      "text/markdown": [
       "1. 4\n",
       "2. 3\n",
       "\n",
       "\n"
      ],
      "text/plain": [
       "[1] 4 3"
      ]
     },
     "metadata": {},
     "output_type": "display_data"
    }
   ],
   "source": [
    "dim(mat)"
   ]
  },
  {
   "cell_type": "code",
   "execution_count": 18,
   "metadata": {},
   "outputs": [],
   "source": [
    "y = matrix(nrow = 2, ncol = 2)\n",
    "\n"
   ]
  },
  {
   "cell_type": "code",
   "execution_count": 19,
   "metadata": {},
   "outputs": [],
   "source": [
    "y[1,1] = 1\n",
    "\n",
    "y[2,1] = 2\n",
    "\n",
    "y[1,2] = 3\n",
    "\n",
    "y[2,2] = 4\n",
    "\n"
   ]
  },
  {
   "cell_type": "code",
   "execution_count": 20,
   "metadata": {},
   "outputs": [
    {
     "data": {
      "text/html": [
       "<table>\n",
       "<tbody>\n",
       "\t<tr><td>1</td><td>3</td></tr>\n",
       "\t<tr><td>2</td><td>4</td></tr>\n",
       "</tbody>\n",
       "</table>\n"
      ],
      "text/latex": [
       "\\begin{tabular}{ll}\n",
       "\t 1 & 3\\\\\n",
       "\t 2 & 4\\\\\n",
       "\\end{tabular}\n"
      ],
      "text/markdown": [
       "\n",
       "| 1 | 3 |\n",
       "| 2 | 4 |\n",
       "\n"
      ],
      "text/plain": [
       "     [,1] [,2]\n",
       "[1,] 1    3   \n",
       "[2,] 2    4   "
      ]
     },
     "metadata": {},
     "output_type": "display_data"
    }
   ],
   "source": [
    "y"
   ]
  },
  {
   "cell_type": "markdown",
   "metadata": {},
   "source": [
    "## Another method"
   ]
  },
  {
   "cell_type": "code",
   "execution_count": null,
   "metadata": {},
   "outputs": [],
   "source": [
    "vec = c(1.2,3.2,4.5,46,54,21)"
   ]
  },
  {
   "cell_type": "code",
   "execution_count": null,
   "metadata": {},
   "outputs": [],
   "source": [
    "vec"
   ]
  },
  {
   "cell_type": "code",
   "execution_count": null,
   "metadata": {},
   "outputs": [],
   "source": [
    "# you can call dimension function with dim() function\n",
    "\n",
    "dim(vec) = c(3,2)"
   ]
  },
  {
   "cell_type": "code",
   "execution_count": null,
   "metadata": {},
   "outputs": [],
   "source": [
    "vec"
   ]
  },
  {
   "cell_type": "code",
   "execution_count": 27,
   "metadata": {},
   "outputs": [],
   "source": [
    "# you can add column and row name to this matrix using rownames() and colnames() function\n",
    "\n",
    "colnames(vec) <- c(\"A\",\"B\")\n",
    "rownames(vec) <- c(\"a\",\"b\",\"c\")"
   ]
  },
  {
   "cell_type": "code",
   "execution_count": 28,
   "metadata": {},
   "outputs": [
    {
     "data": {
      "text/html": [
       "<table>\n",
       "<thead><tr><th></th><th scope=col>A</th><th scope=col>B</th></tr></thead>\n",
       "<tbody>\n",
       "\t<tr><th scope=row>a</th><td>1.2</td><td>46 </td></tr>\n",
       "\t<tr><th scope=row>b</th><td>3.2</td><td>54 </td></tr>\n",
       "\t<tr><th scope=row>c</th><td>4.5</td><td>21 </td></tr>\n",
       "</tbody>\n",
       "</table>\n"
      ],
      "text/latex": [
       "\\begin{tabular}{r|ll}\n",
       "  & A & B\\\\\n",
       "\\hline\n",
       "\ta & 1.2 & 46 \\\\\n",
       "\tb & 3.2 & 54 \\\\\n",
       "\tc & 4.5 & 21 \\\\\n",
       "\\end{tabular}\n"
      ],
      "text/markdown": [
       "\n",
       "| <!--/--> | A | B |\n",
       "|---|---|---|\n",
       "| a | 1.2 | 46  |\n",
       "| b | 3.2 | 54  |\n",
       "| c | 4.5 | 21  |\n",
       "\n"
      ],
      "text/plain": [
       "  A   B \n",
       "a 1.2 46\n",
       "b 3.2 54\n",
       "c 4.5 21"
      ]
     },
     "metadata": {},
     "output_type": "display_data"
    }
   ],
   "source": [
    "vec"
   ]
  },
  {
   "cell_type": "markdown",
   "metadata": {},
   "source": [
    "## Using rbind & cbind to create a matrix¶"
   ]
  },
  {
   "cell_type": "code",
   "execution_count": null,
   "metadata": {},
   "outputs": [],
   "source": [
    "mat3 <- cbind(c(1,2,3,4,5,6)) #creating matrix of one column"
   ]
  },
  {
   "cell_type": "code",
   "execution_count": null,
   "metadata": {},
   "outputs": [],
   "source": [
    "mat3"
   ]
  },
  {
   "cell_type": "code",
   "execution_count": null,
   "metadata": {},
   "outputs": [],
   "source": [
    "mat3 <- cbind(c(1,2,3),c(12,13,14))"
   ]
  },
  {
   "cell_type": "code",
   "execution_count": null,
   "metadata": {},
   "outputs": [],
   "source": [
    "mat3"
   ]
  },
  {
   "cell_type": "code",
   "execution_count": null,
   "metadata": {},
   "outputs": [],
   "source": [
    "mat4 <- rbind(c(1,2,3,4,5,6)) #matrix of one row"
   ]
  },
  {
   "cell_type": "code",
   "execution_count": null,
   "metadata": {},
   "outputs": [],
   "source": [
    "mat4"
   ]
  },
  {
   "cell_type": "code",
   "execution_count": 12,
   "metadata": {},
   "outputs": [],
   "source": [
    "mat4 <- rbind(c(1,2,3),c(4,5,6)) #matrix of two row"
   ]
  },
  {
   "cell_type": "code",
   "execution_count": 13,
   "metadata": {},
   "outputs": [
    {
     "data": {
      "text/html": [
       "<table>\n",
       "<tbody>\n",
       "\t<tr><td>1</td><td>2</td><td>3</td></tr>\n",
       "\t<tr><td>4</td><td>5</td><td>6</td></tr>\n",
       "</tbody>\n",
       "</table>\n"
      ],
      "text/latex": [
       "\\begin{tabular}{lll}\n",
       "\t 1 & 2 & 3\\\\\n",
       "\t 4 & 5 & 6\\\\\n",
       "\\end{tabular}\n"
      ],
      "text/markdown": [
       "\n",
       "| 1 | 2 | 3 |\n",
       "| 4 | 5 | 6 |\n",
       "\n"
      ],
      "text/plain": [
       "     [,1] [,2] [,3]\n",
       "[1,] 1    2    3   \n",
       "[2,] 4    5    6   "
      ]
     },
     "metadata": {},
     "output_type": "display_data"
    }
   ],
   "source": [
    "mat4"
   ]
  },
  {
   "cell_type": "markdown",
   "metadata": {},
   "source": [
    "### Accesing elements from Matrix¶"
   ]
  },
  {
   "cell_type": "code",
   "execution_count": 32,
   "metadata": {},
   "outputs": [],
   "source": [
    "mat <- matrix(100:115 , nrow =4,ncol = 4 )"
   ]
  },
  {
   "cell_type": "code",
   "execution_count": 33,
   "metadata": {},
   "outputs": [
    {
     "data": {
      "text/html": [
       "<table>\n",
       "<tbody>\n",
       "\t<tr><td>100</td><td>104</td><td>108</td><td>112</td></tr>\n",
       "\t<tr><td>101</td><td>105</td><td>109</td><td>113</td></tr>\n",
       "\t<tr><td>102</td><td>106</td><td>110</td><td>114</td></tr>\n",
       "\t<tr><td>103</td><td>107</td><td>111</td><td>115</td></tr>\n",
       "</tbody>\n",
       "</table>\n"
      ],
      "text/latex": [
       "\\begin{tabular}{llll}\n",
       "\t 100 & 104 & 108 & 112\\\\\n",
       "\t 101 & 105 & 109 & 113\\\\\n",
       "\t 102 & 106 & 110 & 114\\\\\n",
       "\t 103 & 107 & 111 & 115\\\\\n",
       "\\end{tabular}\n"
      ],
      "text/markdown": [
       "\n",
       "| 100 | 104 | 108 | 112 |\n",
       "| 101 | 105 | 109 | 113 |\n",
       "| 102 | 106 | 110 | 114 |\n",
       "| 103 | 107 | 111 | 115 |\n",
       "\n"
      ],
      "text/plain": [
       "     [,1] [,2] [,3] [,4]\n",
       "[1,] 100  104  108  112 \n",
       "[2,] 101  105  109  113 \n",
       "[3,] 102  106  110  114 \n",
       "[4,] 103  107  111  115 "
      ]
     },
     "metadata": {},
     "output_type": "display_data"
    }
   ],
   "source": [
    "mat"
   ]
  },
  {
   "cell_type": "code",
   "execution_count": 34,
   "metadata": {},
   "outputs": [],
   "source": [
    "colnames(mat) = c(\"A\",\"B\",\"C\",\"D\")\n"
   ]
  },
  {
   "cell_type": "code",
   "execution_count": 35,
   "metadata": {},
   "outputs": [],
   "source": [
    "rownames(mat) = c(\"1\",\"2\",\"3\",\"4\")"
   ]
  },
  {
   "cell_type": "code",
   "execution_count": 36,
   "metadata": {},
   "outputs": [
    {
     "data": {
      "text/html": [
       "<table>\n",
       "<thead><tr><th scope=col>A</th><th scope=col>B</th><th scope=col>C</th><th scope=col>D</th></tr></thead>\n",
       "<tbody>\n",
       "\t<tr><td>100</td><td>104</td><td>108</td><td>112</td></tr>\n",
       "\t<tr><td>101</td><td>105</td><td>109</td><td>113</td></tr>\n",
       "\t<tr><td>102</td><td>106</td><td>110</td><td>114</td></tr>\n",
       "\t<tr><td>103</td><td>107</td><td>111</td><td>115</td></tr>\n",
       "</tbody>\n",
       "</table>\n"
      ],
      "text/latex": [
       "\\begin{tabular}{r|llll}\n",
       " A & B & C & D\\\\\n",
       "\\hline\n",
       "\t 100 & 104 & 108 & 112\\\\\n",
       "\t 101 & 105 & 109 & 113\\\\\n",
       "\t 102 & 106 & 110 & 114\\\\\n",
       "\t 103 & 107 & 111 & 115\\\\\n",
       "\\end{tabular}\n"
      ],
      "text/markdown": [
       "\n",
       "| A | B | C | D |\n",
       "|---|---|---|---|\n",
       "| 100 | 104 | 108 | 112 |\n",
       "| 101 | 105 | 109 | 113 |\n",
       "| 102 | 106 | 110 | 114 |\n",
       "| 103 | 107 | 111 | 115 |\n",
       "\n"
      ],
      "text/plain": [
       "  A   B   C   D  \n",
       "1 100 104 108 112\n",
       "2 101 105 109 113\n",
       "3 102 106 110 114\n",
       "4 103 107 111 115"
      ]
     },
     "metadata": {},
     "output_type": "display_data"
    }
   ],
   "source": [
    "mat"
   ]
  },
  {
   "cell_type": "code",
   "execution_count": 37,
   "metadata": {},
   "outputs": [
    {
     "data": {
      "text/html": [
       "100"
      ],
      "text/latex": [
       "100"
      ],
      "text/markdown": [
       "100"
      ],
      "text/plain": [
       "[1] 100"
      ]
     },
     "metadata": {},
     "output_type": "display_data"
    }
   ],
   "source": [
    "#access first element\n",
    "\n",
    "mat[1]"
   ]
  },
  {
   "cell_type": "code",
   "execution_count": 38,
   "metadata": {},
   "outputs": [
    {
     "data": {
      "text/html": [
       "114"
      ],
      "text/latex": [
       "114"
      ],
      "text/markdown": [
       "114"
      ],
      "text/plain": [
       "[1] 114"
      ]
     },
     "metadata": {},
     "output_type": "display_data"
    }
   ],
   "source": [
    "#access 15th element\n",
    "\n",
    "mat[15]"
   ]
  },
  {
   "cell_type": "code",
   "execution_count": 91,
   "metadata": {},
   "outputs": [
    {
     "data": {
      "text/html": [
       "109"
      ],
      "text/latex": [
       "109"
      ],
      "text/markdown": [
       "109"
      ],
      "text/plain": [
       "[1] 109"
      ]
     },
     "metadata": {},
     "output_type": "display_data"
    }
   ],
   "source": [
    "mat[10]"
   ]
  },
  {
   "cell_type": "code",
   "execution_count": 7,
   "metadata": {},
   "outputs": [
    {
     "ename": "NameError",
     "evalue": "name 'mat' is not defined",
     "output_type": "error",
     "traceback": [
      "\u001b[1;31m---------------------------------------------------------------------------\u001b[0m",
      "\u001b[1;31mNameError\u001b[0m                                 Traceback (most recent call last)",
      "Input \u001b[1;32mIn [7]\u001b[0m, in \u001b[0;36m<cell line: 3>\u001b[1;34m()\u001b[0m\n\u001b[0;32m      1\u001b[0m \u001b[38;5;66;03m#access all element of row 3\u001b[39;00m\n\u001b[1;32m----> 3\u001b[0m \u001b[43mmat\u001b[49m[\u001b[38;5;241m3\u001b[39m,]\n",
      "\u001b[1;31mNameError\u001b[0m: name 'mat' is not defined"
     ]
    }
   ],
   "source": [
    "#access all element of row 3\n",
    "\n",
    "mat[3,]"
   ]
  },
  {
   "cell_type": "code",
   "execution_count": 39,
   "metadata": {},
   "outputs": [
    {
     "data": {
      "text/html": [
       "<table>\n",
       "<thead><tr><th></th><th scope=col>A</th><th scope=col>B</th><th scope=col>C</th><th scope=col>D</th></tr></thead>\n",
       "<tbody>\n",
       "\t<tr><th scope=row>2</th><td>101</td><td>105</td><td>109</td><td>113</td></tr>\n",
       "\t<tr><th scope=row>4</th><td>103</td><td>107</td><td>111</td><td>115</td></tr>\n",
       "</tbody>\n",
       "</table>\n"
      ],
      "text/latex": [
       "\\begin{tabular}{r|llll}\n",
       "  & A & B & C & D\\\\\n",
       "\\hline\n",
       "\t2 & 101 & 105 & 109 & 113\\\\\n",
       "\t4 & 103 & 107 & 111 & 115\\\\\n",
       "\\end{tabular}\n"
      ],
      "text/markdown": [
       "\n",
       "| <!--/--> | A | B | C | D |\n",
       "|---|---|---|---|---|\n",
       "| 2 | 101 | 105 | 109 | 113 |\n",
       "| 4 | 103 | 107 | 111 | 115 |\n",
       "\n"
      ],
      "text/plain": [
       "  A   B   C   D  \n",
       "2 101 105 109 113\n",
       "4 103 107 111 115"
      ]
     },
     "metadata": {},
     "output_type": "display_data"
    }
   ],
   "source": [
    "#access multiple rows\n",
    "\n",
    "mat[c(2,4),]"
   ]
  },
  {
   "cell_type": "code",
   "execution_count": 94,
   "metadata": {},
   "outputs": [
    {
     "data": {
      "text/html": [
       "<dl class=dl-horizontal>\n",
       "\t<dt>1</dt>\n",
       "\t\t<dd>100</dd>\n",
       "\t<dt>2</dt>\n",
       "\t\t<dd>101</dd>\n",
       "\t<dt>3</dt>\n",
       "\t\t<dd>102</dd>\n",
       "\t<dt>4</dt>\n",
       "\t\t<dd>103</dd>\n",
       "</dl>\n"
      ],
      "text/latex": [
       "\\begin{description*}\n",
       "\\item[1] 100\n",
       "\\item[2] 101\n",
       "\\item[3] 102\n",
       "\\item[4] 103\n",
       "\\end{description*}\n"
      ],
      "text/markdown": [
       "1\n",
       ":   1002\n",
       ":   1013\n",
       ":   1024\n",
       ":   103\n",
       "\n"
      ],
      "text/plain": [
       "  1   2   3   4 \n",
       "100 101 102 103 "
      ]
     },
     "metadata": {},
     "output_type": "display_data"
    }
   ],
   "source": [
    "#access all element of column \n",
    "\n",
    "mat[,\"A\"]"
   ]
  },
  {
   "cell_type": "code",
   "execution_count": 96,
   "metadata": {},
   "outputs": [
    {
     "data": {
      "text/html": [
       "<dl class=dl-horizontal>\n",
       "\t<dt>1</dt>\n",
       "\t\t<dd>100</dd>\n",
       "\t<dt>2</dt>\n",
       "\t\t<dd>101</dd>\n",
       "\t<dt>3</dt>\n",
       "\t\t<dd>102</dd>\n",
       "\t<dt>4</dt>\n",
       "\t\t<dd>103</dd>\n",
       "</dl>\n"
      ],
      "text/latex": [
       "\\begin{description*}\n",
       "\\item[1] 100\n",
       "\\item[2] 101\n",
       "\\item[3] 102\n",
       "\\item[4] 103\n",
       "\\end{description*}\n"
      ],
      "text/markdown": [
       "1\n",
       ":   1002\n",
       ":   1013\n",
       ":   1024\n",
       ":   103\n",
       "\n"
      ],
      "text/plain": [
       "  1   2   3   4 \n",
       "100 101 102 103 "
      ]
     },
     "metadata": {},
     "output_type": "display_data"
    }
   ],
   "source": [
    "#access all element of column \n",
    "mat[,1]"
   ]
  },
  {
   "cell_type": "code",
   "execution_count": 97,
   "metadata": {},
   "outputs": [
    {
     "data": {
      "text/html": [
       "<table>\n",
       "<thead><tr><th scope=col>A</th><th scope=col>B</th></tr></thead>\n",
       "<tbody>\n",
       "\t<tr><td>100</td><td>104</td></tr>\n",
       "\t<tr><td>101</td><td>105</td></tr>\n",
       "\t<tr><td>102</td><td>106</td></tr>\n",
       "\t<tr><td>103</td><td>107</td></tr>\n",
       "</tbody>\n",
       "</table>\n"
      ],
      "text/latex": [
       "\\begin{tabular}{r|ll}\n",
       " A & B\\\\\n",
       "\\hline\n",
       "\t 100 & 104\\\\\n",
       "\t 101 & 105\\\\\n",
       "\t 102 & 106\\\\\n",
       "\t 103 & 107\\\\\n",
       "\\end{tabular}\n"
      ],
      "text/markdown": [
       "\n",
       "| A | B |\n",
       "|---|---|\n",
       "| 100 | 104 |\n",
       "| 101 | 105 |\n",
       "| 102 | 106 |\n",
       "| 103 | 107 |\n",
       "\n"
      ],
      "text/plain": [
       "  A   B  \n",
       "1 100 104\n",
       "2 101 105\n",
       "3 102 106\n",
       "4 103 107"
      ]
     },
     "metadata": {},
     "output_type": "display_data"
    }
   ],
   "source": [
    "#access multiple columns\n",
    "\n",
    "mat[,c(\"A\",\"B\")]"
   ]
  },
  {
   "cell_type": "code",
   "execution_count": 98,
   "metadata": {},
   "outputs": [
    {
     "data": {
      "text/html": [
       "<table>\n",
       "<thead><tr><th scope=col>A</th><th scope=col>B</th></tr></thead>\n",
       "<tbody>\n",
       "\t<tr><td>100</td><td>104</td></tr>\n",
       "\t<tr><td>101</td><td>105</td></tr>\n",
       "\t<tr><td>102</td><td>106</td></tr>\n",
       "\t<tr><td>103</td><td>107</td></tr>\n",
       "</tbody>\n",
       "</table>\n"
      ],
      "text/latex": [
       "\\begin{tabular}{r|ll}\n",
       " A & B\\\\\n",
       "\\hline\n",
       "\t 100 & 104\\\\\n",
       "\t 101 & 105\\\\\n",
       "\t 102 & 106\\\\\n",
       "\t 103 & 107\\\\\n",
       "\\end{tabular}\n"
      ],
      "text/markdown": [
       "\n",
       "| A | B |\n",
       "|---|---|\n",
       "| 100 | 104 |\n",
       "| 101 | 105 |\n",
       "| 102 | 106 |\n",
       "| 103 | 107 |\n",
       "\n"
      ],
      "text/plain": [
       "  A   B  \n",
       "1 100 104\n",
       "2 101 105\n",
       "3 102 106\n",
       "4 103 107"
      ]
     },
     "metadata": {},
     "output_type": "display_data"
    }
   ],
   "source": [
    "mat[,c(1,2)]"
   ]
  },
  {
   "cell_type": "code",
   "execution_count": 99,
   "metadata": {},
   "outputs": [
    {
     "data": {
      "text/html": [
       "107"
      ],
      "text/latex": [
       "107"
      ],
      "text/markdown": [
       "107"
      ],
      "text/plain": [
       "[1] 107"
      ]
     },
     "metadata": {},
     "output_type": "display_data"
    }
   ],
   "source": [
    "# access element from a row and column\n",
    "\n",
    "mat[4,2] #get element from 4throw and 2nd column"
   ]
  },
  {
   "cell_type": "code",
   "execution_count": 100,
   "metadata": {},
   "outputs": [
    {
     "data": {
      "text/html": [
       "<strong>C:</strong> 111"
      ],
      "text/latex": [
       "\\textbf{C:} 111"
      ],
      "text/markdown": [
       "**C:** 111"
      ],
      "text/plain": [
       "  C \n",
       "111 "
      ]
     },
     "metadata": {},
     "output_type": "display_data"
    }
   ],
   "source": [
    "mat[4,][3]"
   ]
  },
  {
   "cell_type": "code",
   "execution_count": 101,
   "metadata": {},
   "outputs": [
    {
     "data": {
      "text/html": [
       "<strong>B:</strong> 107"
      ],
      "text/latex": [
       "\\textbf{B:} 107"
      ],
      "text/markdown": [
       "**B:** 107"
      ],
      "text/plain": [
       "  B \n",
       "107 "
      ]
     },
     "metadata": {},
     "output_type": "display_data"
    }
   ],
   "source": [
    "mat[4,][2] # you can also use this method"
   ]
  },
  {
   "cell_type": "code",
   "execution_count": 102,
   "metadata": {},
   "outputs": [
    {
     "data": {
      "text/html": [
       "<strong>B:</strong> 104"
      ],
      "text/latex": [
       "\\textbf{B:} 104"
      ],
      "text/markdown": [
       "**B:** 104"
      ],
      "text/plain": [
       "  B \n",
       "104 "
      ]
     },
     "metadata": {},
     "output_type": "display_data"
    }
   ],
   "source": [
    "mat[1,][\"B\"]"
   ]
  },
  {
   "cell_type": "code",
   "execution_count": 103,
   "metadata": {},
   "outputs": [
    {
     "data": {
      "text/html": [
       "<table>\n",
       "<thead><tr><th scope=col>A</th><th scope=col>B</th><th scope=col>C</th><th scope=col>D</th></tr></thead>\n",
       "<tbody>\n",
       "\t<tr><td>100</td><td>104</td><td>108</td><td>112</td></tr>\n",
       "\t<tr><td>101</td><td>105</td><td>109</td><td>113</td></tr>\n",
       "\t<tr><td>102</td><td>106</td><td>110</td><td>114</td></tr>\n",
       "\t<tr><td>103</td><td>107</td><td>111</td><td>115</td></tr>\n",
       "</tbody>\n",
       "</table>\n"
      ],
      "text/latex": [
       "\\begin{tabular}{r|llll}\n",
       " A & B & C & D\\\\\n",
       "\\hline\n",
       "\t 100 & 104 & 108 & 112\\\\\n",
       "\t 101 & 105 & 109 & 113\\\\\n",
       "\t 102 & 106 & 110 & 114\\\\\n",
       "\t 103 & 107 & 111 & 115\\\\\n",
       "\\end{tabular}\n"
      ],
      "text/markdown": [
       "\n",
       "| A | B | C | D |\n",
       "|---|---|---|---|\n",
       "| 100 | 104 | 108 | 112 |\n",
       "| 101 | 105 | 109 | 113 |\n",
       "| 102 | 106 | 110 | 114 |\n",
       "| 103 | 107 | 111 | 115 |\n",
       "\n"
      ],
      "text/plain": [
       "  A   B   C   D  \n",
       "1 100 104 108 112\n",
       "2 101 105 109 113\n",
       "3 102 106 110 114\n",
       "4 103 107 111 115"
      ]
     },
     "metadata": {},
     "output_type": "display_data"
    }
   ],
   "source": [
    "mat"
   ]
  },
  {
   "cell_type": "code",
   "execution_count": 104,
   "metadata": {},
   "outputs": [
    {
     "data": {
      "text/html": [
       "<table>\n",
       "<thead><tr><th></th><th scope=col>C</th><th scope=col>D</th></tr></thead>\n",
       "<tbody>\n",
       "\t<tr><th scope=row>1</th><td>108</td><td>112</td></tr>\n",
       "\t<tr><th scope=row>4</th><td>111</td><td>115</td></tr>\n",
       "</tbody>\n",
       "</table>\n"
      ],
      "text/latex": [
       "\\begin{tabular}{r|ll}\n",
       "  & C & D\\\\\n",
       "\\hline\n",
       "\t1 & 108 & 112\\\\\n",
       "\t4 & 111 & 115\\\\\n",
       "\\end{tabular}\n"
      ],
      "text/markdown": [
       "\n",
       "| <!--/--> | C | D |\n",
       "|---|---|---|\n",
       "| 1 | 108 | 112 |\n",
       "| 4 | 111 | 115 |\n",
       "\n"
      ],
      "text/plain": [
       "  C   D  \n",
       "1 108 112\n",
       "4 111 115"
      ]
     },
     "metadata": {},
     "output_type": "display_data"
    }
   ],
   "source": [
    "# accessing multiple rows and columns\n",
    "\n",
    "mat[c(1,4),c(\"C\",\"D\")]"
   ]
  },
  {
   "cell_type": "markdown",
   "metadata": {},
   "source": [
    "### Dropping value from matrix"
   ]
  },
  {
   "cell_type": "code",
   "execution_count": 40,
   "metadata": {},
   "outputs": [
    {
     "data": {
      "text/html": [
       "<table>\n",
       "<thead><tr><th></th><th scope=col>A</th><th scope=col>B</th><th scope=col>C</th><th scope=col>D</th></tr></thead>\n",
       "<tbody>\n",
       "\t<tr><th scope=row>3</th><td>102</td><td>106</td><td>110</td><td>114</td></tr>\n",
       "\t<tr><th scope=row>4</th><td>103</td><td>107</td><td>111</td><td>115</td></tr>\n",
       "</tbody>\n",
       "</table>\n"
      ],
      "text/latex": [
       "\\begin{tabular}{r|llll}\n",
       "  & A & B & C & D\\\\\n",
       "\\hline\n",
       "\t3 & 102 & 106 & 110 & 114\\\\\n",
       "\t4 & 103 & 107 & 111 & 115\\\\\n",
       "\\end{tabular}\n"
      ],
      "text/markdown": [
       "\n",
       "| <!--/--> | A | B | C | D |\n",
       "|---|---|---|---|---|\n",
       "| 3 | 102 | 106 | 110 | 114 |\n",
       "| 4 | 103 | 107 | 111 | 115 |\n",
       "\n"
      ],
      "text/plain": [
       "  A   B   C   D  \n",
       "3 102 106 110 114\n",
       "4 103 107 111 115"
      ]
     },
     "metadata": {},
     "output_type": "display_data"
    }
   ],
   "source": [
    "mat[-1:-2,] #prints all rows without 1st row"
   ]
  },
  {
   "cell_type": "code",
   "execution_count": 106,
   "metadata": {},
   "outputs": [
    {
     "data": {
      "text/html": [
       "<table>\n",
       "<thead><tr><th scope=col>A</th><th scope=col>B</th><th scope=col>C</th></tr></thead>\n",
       "<tbody>\n",
       "\t<tr><td>100</td><td>104</td><td>108</td></tr>\n",
       "\t<tr><td>101</td><td>105</td><td>109</td></tr>\n",
       "\t<tr><td>102</td><td>106</td><td>110</td></tr>\n",
       "\t<tr><td>103</td><td>107</td><td>111</td></tr>\n",
       "</tbody>\n",
       "</table>\n"
      ],
      "text/latex": [
       "\\begin{tabular}{r|lll}\n",
       " A & B & C\\\\\n",
       "\\hline\n",
       "\t 100 & 104 & 108\\\\\n",
       "\t 101 & 105 & 109\\\\\n",
       "\t 102 & 106 & 110\\\\\n",
       "\t 103 & 107 & 111\\\\\n",
       "\\end{tabular}\n"
      ],
      "text/markdown": [
       "\n",
       "| A | B | C |\n",
       "|---|---|---|\n",
       "| 100 | 104 | 108 |\n",
       "| 101 | 105 | 109 |\n",
       "| 102 | 106 | 110 |\n",
       "| 103 | 107 | 111 |\n",
       "\n"
      ],
      "text/plain": [
       "  A   B   C  \n",
       "1 100 104 108\n",
       "2 101 105 109\n",
       "3 102 106 110\n",
       "4 103 107 111"
      ]
     },
     "metadata": {},
     "output_type": "display_data"
    }
   ],
   "source": [
    "mat[,-4]  #drops 4th columns"
   ]
  },
  {
   "cell_type": "markdown",
   "metadata": {},
   "source": [
    "#### But this does not drop row or column from the matrix actually"
   ]
  },
  {
   "cell_type": "code",
   "execution_count": 107,
   "metadata": {},
   "outputs": [
    {
     "data": {
      "text/html": [
       "<table>\n",
       "<thead><tr><th scope=col>A</th><th scope=col>B</th><th scope=col>C</th><th scope=col>D</th></tr></thead>\n",
       "<tbody>\n",
       "\t<tr><td>100</td><td>104</td><td>108</td><td>112</td></tr>\n",
       "\t<tr><td>101</td><td>105</td><td>109</td><td>113</td></tr>\n",
       "\t<tr><td>102</td><td>106</td><td>110</td><td>114</td></tr>\n",
       "\t<tr><td>103</td><td>107</td><td>111</td><td>115</td></tr>\n",
       "</tbody>\n",
       "</table>\n"
      ],
      "text/latex": [
       "\\begin{tabular}{r|llll}\n",
       " A & B & C & D\\\\\n",
       "\\hline\n",
       "\t 100 & 104 & 108 & 112\\\\\n",
       "\t 101 & 105 & 109 & 113\\\\\n",
       "\t 102 & 106 & 110 & 114\\\\\n",
       "\t 103 & 107 & 111 & 115\\\\\n",
       "\\end{tabular}\n"
      ],
      "text/markdown": [
       "\n",
       "| A | B | C | D |\n",
       "|---|---|---|---|\n",
       "| 100 | 104 | 108 | 112 |\n",
       "| 101 | 105 | 109 | 113 |\n",
       "| 102 | 106 | 110 | 114 |\n",
       "| 103 | 107 | 111 | 115 |\n",
       "\n"
      ],
      "text/plain": [
       "  A   B   C   D  \n",
       "1 100 104 108 112\n",
       "2 101 105 109 113\n",
       "3 102 106 110 114\n",
       "4 103 107 111 115"
      ]
     },
     "metadata": {},
     "output_type": "display_data"
    }
   ],
   "source": [
    "mat"
   ]
  },
  {
   "cell_type": "markdown",
   "metadata": {},
   "source": [
    "#### If you want to drop values from matrix actually"
   ]
  },
  {
   "cell_type": "code",
   "execution_count": 108,
   "metadata": {},
   "outputs": [],
   "source": [
    "mat_new <- mat[-1,]"
   ]
  },
  {
   "cell_type": "code",
   "execution_count": 109,
   "metadata": {},
   "outputs": [
    {
     "data": {
      "text/html": [
       "<table>\n",
       "<thead><tr><th></th><th scope=col>A</th><th scope=col>B</th><th scope=col>C</th><th scope=col>D</th></tr></thead>\n",
       "<tbody>\n",
       "\t<tr><th scope=row>2</th><td>101</td><td>105</td><td>109</td><td>113</td></tr>\n",
       "\t<tr><th scope=row>3</th><td>102</td><td>106</td><td>110</td><td>114</td></tr>\n",
       "\t<tr><th scope=row>4</th><td>103</td><td>107</td><td>111</td><td>115</td></tr>\n",
       "</tbody>\n",
       "</table>\n"
      ],
      "text/latex": [
       "\\begin{tabular}{r|llll}\n",
       "  & A & B & C & D\\\\\n",
       "\\hline\n",
       "\t2 & 101 & 105 & 109 & 113\\\\\n",
       "\t3 & 102 & 106 & 110 & 114\\\\\n",
       "\t4 & 103 & 107 & 111 & 115\\\\\n",
       "\\end{tabular}\n"
      ],
      "text/markdown": [
       "\n",
       "| <!--/--> | A | B | C | D |\n",
       "|---|---|---|---|---|\n",
       "| 2 | 101 | 105 | 109 | 113 |\n",
       "| 3 | 102 | 106 | 110 | 114 |\n",
       "| 4 | 103 | 107 | 111 | 115 |\n",
       "\n"
      ],
      "text/plain": [
       "  A   B   C   D  \n",
       "2 101 105 109 113\n",
       "3 102 106 110 114\n",
       "4 103 107 111 115"
      ]
     },
     "metadata": {},
     "output_type": "display_data"
    }
   ],
   "source": [
    "mat_new"
   ]
  },
  {
   "cell_type": "code",
   "execution_count": 110,
   "metadata": {},
   "outputs": [
    {
     "data": {
      "text/html": [
       "<table>\n",
       "<thead><tr><th scope=col>A</th><th scope=col>B</th><th scope=col>C</th><th scope=col>D</th></tr></thead>\n",
       "<tbody>\n",
       "\t<tr><td>100</td><td>104</td><td>108</td><td>112</td></tr>\n",
       "\t<tr><td>101</td><td>105</td><td>109</td><td>113</td></tr>\n",
       "\t<tr><td>102</td><td>106</td><td>110</td><td>114</td></tr>\n",
       "\t<tr><td>103</td><td>107</td><td>111</td><td>115</td></tr>\n",
       "</tbody>\n",
       "</table>\n"
      ],
      "text/latex": [
       "\\begin{tabular}{r|llll}\n",
       " A & B & C & D\\\\\n",
       "\\hline\n",
       "\t 100 & 104 & 108 & 112\\\\\n",
       "\t 101 & 105 & 109 & 113\\\\\n",
       "\t 102 & 106 & 110 & 114\\\\\n",
       "\t 103 & 107 & 111 & 115\\\\\n",
       "\\end{tabular}\n"
      ],
      "text/markdown": [
       "\n",
       "| A | B | C | D |\n",
       "|---|---|---|---|\n",
       "| 100 | 104 | 108 | 112 |\n",
       "| 101 | 105 | 109 | 113 |\n",
       "| 102 | 106 | 110 | 114 |\n",
       "| 103 | 107 | 111 | 115 |\n",
       "\n"
      ],
      "text/plain": [
       "  A   B   C   D  \n",
       "1 100 104 108 112\n",
       "2 101 105 109 113\n",
       "3 102 106 110 114\n",
       "4 103 107 111 115"
      ]
     },
     "metadata": {},
     "output_type": "display_data"
    }
   ],
   "source": [
    "mat"
   ]
  },
  {
   "cell_type": "markdown",
   "metadata": {},
   "source": [
    "### Accessing elements using logical opeartors"
   ]
  },
  {
   "cell_type": "code",
   "execution_count": 111,
   "metadata": {},
   "outputs": [
    {
     "data": {
      "text/html": [
       "100"
      ],
      "text/latex": [
       "100"
      ],
      "text/markdown": [
       "100"
      ],
      "text/plain": [
       "[1] 100"
      ]
     },
     "metadata": {},
     "output_type": "display_data"
    }
   ],
   "source": [
    "mat[1]"
   ]
  },
  {
   "cell_type": "code",
   "execution_count": 112,
   "metadata": {},
   "outputs": [
    {
     "data": {
      "text/html": [
       "<ol class=list-inline>\n",
       "\t<li>100</li>\n",
       "\t<li>101</li>\n",
       "\t<li>102</li>\n",
       "\t<li>103</li>\n",
       "\t<li>104</li>\n",
       "\t<li>105</li>\n",
       "\t<li>106</li>\n",
       "\t<li>107</li>\n",
       "\t<li>108</li>\n",
       "\t<li>109</li>\n",
       "\t<li>110</li>\n",
       "\t<li>111</li>\n",
       "\t<li>112</li>\n",
       "\t<li>113</li>\n",
       "\t<li>114</li>\n",
       "\t<li>115</li>\n",
       "</ol>\n"
      ],
      "text/latex": [
       "\\begin{enumerate*}\n",
       "\\item 100\n",
       "\\item 101\n",
       "\\item 102\n",
       "\\item 103\n",
       "\\item 104\n",
       "\\item 105\n",
       "\\item 106\n",
       "\\item 107\n",
       "\\item 108\n",
       "\\item 109\n",
       "\\item 110\n",
       "\\item 111\n",
       "\\item 112\n",
       "\\item 113\n",
       "\\item 114\n",
       "\\item 115\n",
       "\\end{enumerate*}\n"
      ],
      "text/markdown": [
       "1. 100\n",
       "2. 101\n",
       "3. 102\n",
       "4. 103\n",
       "5. 104\n",
       "6. 105\n",
       "7. 106\n",
       "8. 107\n",
       "9. 108\n",
       "10. 109\n",
       "11. 110\n",
       "12. 111\n",
       "13. 112\n",
       "14. 113\n",
       "15. 114\n",
       "16. 115\n",
       "\n",
       "\n"
      ],
      "text/plain": [
       " [1] 100 101 102 103 104 105 106 107 108 109 110 111 112 113 114 115"
      ]
     },
     "metadata": {},
     "output_type": "display_data"
    }
   ],
   "source": [
    "mat[(TRUE)] # mat[c(TRUE,TRUE,TRUE,TRUE,TRUE,TRUE,TRUE,TRUE,TRUE,TRUE,TRUE,TRUE,)]"
   ]
  },
  {
   "cell_type": "code",
   "execution_count": 113,
   "metadata": {},
   "outputs": [
    {
     "data": {
      "text/html": [
       "<dl class=dl-horizontal>\n",
       "\t<dt>A</dt>\n",
       "\t\t<dd>100</dd>\n",
       "\t<dt>B</dt>\n",
       "\t\t<dd>104</dd>\n",
       "\t<dt>C</dt>\n",
       "\t\t<dd>108</dd>\n",
       "\t<dt>D</dt>\n",
       "\t\t<dd>112</dd>\n",
       "</dl>\n"
      ],
      "text/latex": [
       "\\begin{description*}\n",
       "\\item[A] 100\n",
       "\\item[B] 104\n",
       "\\item[C] 108\n",
       "\\item[D] 112\n",
       "\\end{description*}\n"
      ],
      "text/markdown": [
       "A\n",
       ":   100B\n",
       ":   104C\n",
       ":   108D\n",
       ":   112\n",
       "\n"
      ],
      "text/plain": [
       "  A   B   C   D \n",
       "100 104 108 112 "
      ]
     },
     "metadata": {},
     "output_type": "display_data"
    }
   ],
   "source": [
    "mat[1,]"
   ]
  },
  {
   "cell_type": "code",
   "execution_count": 114,
   "metadata": {},
   "outputs": [
    {
     "data": {
      "text/html": [
       "<table>\n",
       "<thead><tr><th scope=col>A</th><th scope=col>B</th><th scope=col>C</th><th scope=col>D</th></tr></thead>\n",
       "<tbody>\n",
       "\t<tr><td>100</td><td>104</td><td>108</td><td>112</td></tr>\n",
       "\t<tr><td>101</td><td>105</td><td>109</td><td>113</td></tr>\n",
       "\t<tr><td>102</td><td>106</td><td>110</td><td>114</td></tr>\n",
       "\t<tr><td>103</td><td>107</td><td>111</td><td>115</td></tr>\n",
       "</tbody>\n",
       "</table>\n"
      ],
      "text/latex": [
       "\\begin{tabular}{r|llll}\n",
       " A & B & C & D\\\\\n",
       "\\hline\n",
       "\t 100 & 104 & 108 & 112\\\\\n",
       "\t 101 & 105 & 109 & 113\\\\\n",
       "\t 102 & 106 & 110 & 114\\\\\n",
       "\t 103 & 107 & 111 & 115\\\\\n",
       "\\end{tabular}\n"
      ],
      "text/markdown": [
       "\n",
       "| A | B | C | D |\n",
       "|---|---|---|---|\n",
       "| 100 | 104 | 108 | 112 |\n",
       "| 101 | 105 | 109 | 113 |\n",
       "| 102 | 106 | 110 | 114 |\n",
       "| 103 | 107 | 111 | 115 |\n",
       "\n"
      ],
      "text/plain": [
       "  A   B   C   D  \n",
       "1 100 104 108 112\n",
       "2 101 105 109 113\n",
       "3 102 106 110 114\n",
       "4 103 107 111 115"
      ]
     },
     "metadata": {},
     "output_type": "display_data"
    }
   ],
   "source": [
    "mat[(TRUE),]"
   ]
  },
  {
   "cell_type": "code",
   "execution_count": 115,
   "metadata": {},
   "outputs": [
    {
     "data": {
      "text/html": [
       "<ol class=list-inline>\n",
       "\t<li>100</li>\n",
       "\t<li>101</li>\n",
       "</ol>\n"
      ],
      "text/latex": [
       "\\begin{enumerate*}\n",
       "\\item 100\n",
       "\\item 101\n",
       "\\end{enumerate*}\n"
      ],
      "text/markdown": [
       "1. 100\n",
       "2. 101\n",
       "\n",
       "\n"
      ],
      "text/plain": [
       "[1] 100 101"
      ]
     },
     "metadata": {},
     "output_type": "display_data"
    }
   ],
   "source": [
    "mat[c(1,2)]"
   ]
  },
  {
   "cell_type": "code",
   "execution_count": 116,
   "metadata": {},
   "outputs": [
    {
     "data": {
      "text/html": [
       "<ol class=list-inline>\n",
       "\t<li>100</li>\n",
       "\t<li>102</li>\n",
       "\t<li>104</li>\n",
       "\t<li>106</li>\n",
       "\t<li>108</li>\n",
       "\t<li>110</li>\n",
       "\t<li>112</li>\n",
       "\t<li>114</li>\n",
       "</ol>\n"
      ],
      "text/latex": [
       "\\begin{enumerate*}\n",
       "\\item 100\n",
       "\\item 102\n",
       "\\item 104\n",
       "\\item 106\n",
       "\\item 108\n",
       "\\item 110\n",
       "\\item 112\n",
       "\\item 114\n",
       "\\end{enumerate*}\n"
      ],
      "text/markdown": [
       "1. 100\n",
       "2. 102\n",
       "3. 104\n",
       "4. 106\n",
       "5. 108\n",
       "6. 110\n",
       "7. 112\n",
       "8. 114\n",
       "\n",
       "\n"
      ],
      "text/plain": [
       "[1] 100 102 104 106 108 110 112 114"
      ]
     },
     "metadata": {},
     "output_type": "display_data"
    }
   ],
   "source": [
    "mat[c(TRUE,FALSE)] #get numbers at odd index #recylcing "
   ]
  },
  {
   "cell_type": "code",
   "execution_count": 117,
   "metadata": {},
   "outputs": [
    {
     "data": {
      "text/html": [
       "<table>\n",
       "<thead><tr><th scope=col>A</th><th scope=col>B</th><th scope=col>C</th><th scope=col>D</th></tr></thead>\n",
       "<tbody>\n",
       "\t<tr><td>100</td><td>104</td><td>108</td><td>112</td></tr>\n",
       "\t<tr><td>101</td><td>105</td><td>109</td><td>113</td></tr>\n",
       "</tbody>\n",
       "</table>\n"
      ],
      "text/latex": [
       "\\begin{tabular}{r|llll}\n",
       " A & B & C & D\\\\\n",
       "\\hline\n",
       "\t 100 & 104 & 108 & 112\\\\\n",
       "\t 101 & 105 & 109 & 113\\\\\n",
       "\\end{tabular}\n"
      ],
      "text/markdown": [
       "\n",
       "| A | B | C | D |\n",
       "|---|---|---|---|\n",
       "| 100 | 104 | 108 | 112 |\n",
       "| 101 | 105 | 109 | 113 |\n",
       "\n"
      ],
      "text/plain": [
       "  A   B   C   D  \n",
       "1 100 104 108 112\n",
       "2 101 105 109 113"
      ]
     },
     "metadata": {},
     "output_type": "display_data"
    }
   ],
   "source": [
    "mat[c(1,2),]"
   ]
  },
  {
   "cell_type": "code",
   "execution_count": 118,
   "metadata": {},
   "outputs": [
    {
     "data": {
      "text/html": [
       "<table>\n",
       "<thead><tr><th></th><th scope=col>A</th><th scope=col>B</th><th scope=col>C</th><th scope=col>D</th></tr></thead>\n",
       "<tbody>\n",
       "\t<tr><th scope=row>1</th><td>100</td><td>104</td><td>108</td><td>112</td></tr>\n",
       "\t<tr><th scope=row>3</th><td>102</td><td>106</td><td>110</td><td>114</td></tr>\n",
       "</tbody>\n",
       "</table>\n"
      ],
      "text/latex": [
       "\\begin{tabular}{r|llll}\n",
       "  & A & B & C & D\\\\\n",
       "\\hline\n",
       "\t1 & 100 & 104 & 108 & 112\\\\\n",
       "\t3 & 102 & 106 & 110 & 114\\\\\n",
       "\\end{tabular}\n"
      ],
      "text/markdown": [
       "\n",
       "| <!--/--> | A | B | C | D |\n",
       "|---|---|---|---|---|\n",
       "| 1 | 100 | 104 | 108 | 112 |\n",
       "| 3 | 102 | 106 | 110 | 114 |\n",
       "\n"
      ],
      "text/plain": [
       "  A   B   C   D  \n",
       "1 100 104 108 112\n",
       "3 102 106 110 114"
      ]
     },
     "metadata": {},
     "output_type": "display_data"
    }
   ],
   "source": [
    "mat[c(TRUE,FALSE),] #get numbers at odd index #recylcing "
   ]
  },
  {
   "cell_type": "code",
   "execution_count": 119,
   "metadata": {},
   "outputs": [
    {
     "data": {
      "text/html": [
       "<ol class=list-inline>\n",
       "\t<li>101</li>\n",
       "\t<li>103</li>\n",
       "\t<li>105</li>\n",
       "\t<li>107</li>\n",
       "\t<li>109</li>\n",
       "\t<li>111</li>\n",
       "\t<li>113</li>\n",
       "\t<li>115</li>\n",
       "</ol>\n"
      ],
      "text/latex": [
       "\\begin{enumerate*}\n",
       "\\item 101\n",
       "\\item 103\n",
       "\\item 105\n",
       "\\item 107\n",
       "\\item 109\n",
       "\\item 111\n",
       "\\item 113\n",
       "\\item 115\n",
       "\\end{enumerate*}\n"
      ],
      "text/markdown": [
       "1. 101\n",
       "2. 103\n",
       "3. 105\n",
       "4. 107\n",
       "5. 109\n",
       "6. 111\n",
       "7. 113\n",
       "8. 115\n",
       "\n",
       "\n"
      ],
      "text/plain": [
       "[1] 101 103 105 107 109 111 113 115"
      ]
     },
     "metadata": {},
     "output_type": "display_data"
    }
   ],
   "source": [
    "mat[c(FALSE,TRUE)]#get numbers at even index  #recylcing "
   ]
  },
  {
   "cell_type": "code",
   "execution_count": 120,
   "metadata": {},
   "outputs": [
    {
     "data": {
      "text/html": [
       "<table>\n",
       "<thead><tr><th></th><th scope=col>A</th><th scope=col>B</th><th scope=col>C</th><th scope=col>D</th></tr></thead>\n",
       "<tbody>\n",
       "\t<tr><th scope=row>2</th><td>101</td><td>105</td><td>109</td><td>113</td></tr>\n",
       "\t<tr><th scope=row>4</th><td>103</td><td>107</td><td>111</td><td>115</td></tr>\n",
       "</tbody>\n",
       "</table>\n"
      ],
      "text/latex": [
       "\\begin{tabular}{r|llll}\n",
       "  & A & B & C & D\\\\\n",
       "\\hline\n",
       "\t2 & 101 & 105 & 109 & 113\\\\\n",
       "\t4 & 103 & 107 & 111 & 115\\\\\n",
       "\\end{tabular}\n"
      ],
      "text/markdown": [
       "\n",
       "| <!--/--> | A | B | C | D |\n",
       "|---|---|---|---|---|\n",
       "| 2 | 101 | 105 | 109 | 113 |\n",
       "| 4 | 103 | 107 | 111 | 115 |\n",
       "\n"
      ],
      "text/plain": [
       "  A   B   C   D  \n",
       "2 101 105 109 113\n",
       "4 103 107 111 115"
      ]
     },
     "metadata": {},
     "output_type": "display_data"
    }
   ],
   "source": [
    "mat[c(FALSE,TRUE),]"
   ]
  },
  {
   "cell_type": "code",
   "execution_count": 121,
   "metadata": {},
   "outputs": [
    {
     "data": {
      "text/html": [
       "<table>\n",
       "<thead><tr><th></th><th scope=col>A</th><th scope=col>B</th><th scope=col>C</th><th scope=col>D</th></tr></thead>\n",
       "<tbody>\n",
       "\t<tr><th scope=row>2</th><td>101</td><td>105</td><td>109</td><td>113</td></tr>\n",
       "\t<tr><th scope=row>4</th><td>103</td><td>107</td><td>111</td><td>115</td></tr>\n",
       "</tbody>\n",
       "</table>\n"
      ],
      "text/latex": [
       "\\begin{tabular}{r|llll}\n",
       "  & A & B & C & D\\\\\n",
       "\\hline\n",
       "\t2 & 101 & 105 & 109 & 113\\\\\n",
       "\t4 & 103 & 107 & 111 & 115\\\\\n",
       "\\end{tabular}\n"
      ],
      "text/markdown": [
       "\n",
       "| <!--/--> | A | B | C | D |\n",
       "|---|---|---|---|---|\n",
       "| 2 | 101 | 105 | 109 | 113 |\n",
       "| 4 | 103 | 107 | 111 | 115 |\n",
       "\n"
      ],
      "text/plain": [
       "  A   B   C   D  \n",
       "2 101 105 109 113\n",
       "4 103 107 111 115"
      ]
     },
     "metadata": {},
     "output_type": "display_data"
    }
   ],
   "source": [
    "mat[c(FALSE,TRUE),c(TRUE,TRUE)]"
   ]
  },
  {
   "cell_type": "code",
   "execution_count": 122,
   "metadata": {},
   "outputs": [
    {
     "data": {
      "text/html": [
       "<table>\n",
       "<thead><tr><th></th><th scope=col>A</th><th scope=col>C</th></tr></thead>\n",
       "<tbody>\n",
       "\t<tr><th scope=row>1</th><td>100</td><td>108</td></tr>\n",
       "\t<tr><th scope=row>3</th><td>102</td><td>110</td></tr>\n",
       "</tbody>\n",
       "</table>\n"
      ],
      "text/latex": [
       "\\begin{tabular}{r|ll}\n",
       "  & A & C\\\\\n",
       "\\hline\n",
       "\t1 & 100 & 108\\\\\n",
       "\t3 & 102 & 110\\\\\n",
       "\\end{tabular}\n"
      ],
      "text/markdown": [
       "\n",
       "| <!--/--> | A | C |\n",
       "|---|---|---|\n",
       "| 1 | 100 | 108 |\n",
       "| 3 | 102 | 110 |\n",
       "\n"
      ],
      "text/plain": [
       "  A   C  \n",
       "1 100 108\n",
       "3 102 110"
      ]
     },
     "metadata": {},
     "output_type": "display_data"
    }
   ],
   "source": [
    "mat[c(TRUE,FALSE),c(TRUE,FALSE)]"
   ]
  },
  {
   "cell_type": "code",
   "execution_count": 123,
   "metadata": {},
   "outputs": [
    {
     "data": {
      "text/html": [
       "<ol class=list-inline>\n",
       "\t<li>100</li>\n",
       "\t<li>101</li>\n",
       "\t<li>102</li>\n",
       "\t<li>103</li>\n",
       "\t<li>104</li>\n",
       "\t<li>105</li>\n",
       "\t<li>106</li>\n",
       "\t<li>107</li>\n",
       "\t<li>108</li>\n",
       "\t<li>109</li>\n",
       "</ol>\n"
      ],
      "text/latex": [
       "\\begin{enumerate*}\n",
       "\\item 100\n",
       "\\item 101\n",
       "\\item 102\n",
       "\\item 103\n",
       "\\item 104\n",
       "\\item 105\n",
       "\\item 106\n",
       "\\item 107\n",
       "\\item 108\n",
       "\\item 109\n",
       "\\end{enumerate*}\n"
      ],
      "text/markdown": [
       "1. 100\n",
       "2. 101\n",
       "3. 102\n",
       "4. 103\n",
       "5. 104\n",
       "6. 105\n",
       "7. 106\n",
       "8. 107\n",
       "9. 108\n",
       "10. 109\n",
       "\n",
       "\n"
      ],
      "text/plain": [
       " [1] 100 101 102 103 104 105 106 107 108 109"
      ]
     },
     "metadata": {},
     "output_type": "display_data"
    }
   ],
   "source": [
    "# Using conditional operators\n",
    "\n",
    "mat[mat<=109]"
   ]
  },
  {
   "cell_type": "code",
   "execution_count": 124,
   "metadata": {},
   "outputs": [
    {
     "data": {
      "text/html": [
       "105"
      ],
      "text/latex": [
       "105"
      ],
      "text/markdown": [
       "105"
      ],
      "text/plain": [
       "[1] 105"
      ]
     },
     "metadata": {},
     "output_type": "display_data"
    }
   ],
   "source": [
    "mat[mat==105]"
   ]
  },
  {
   "cell_type": "markdown",
   "metadata": {},
   "source": [
    "#### Modify elements of a Matrix"
   ]
  },
  {
   "cell_type": "code",
   "execution_count": 125,
   "metadata": {},
   "outputs": [
    {
     "data": {
      "text/html": [
       "<table>\n",
       "<thead><tr><th scope=col>A</th><th scope=col>B</th><th scope=col>C</th><th scope=col>D</th></tr></thead>\n",
       "<tbody>\n",
       "\t<tr><td>100</td><td>104</td><td>108</td><td>112</td></tr>\n",
       "\t<tr><td>101</td><td>105</td><td>109</td><td>113</td></tr>\n",
       "\t<tr><td>102</td><td>106</td><td>110</td><td>114</td></tr>\n",
       "\t<tr><td>103</td><td>107</td><td>111</td><td>115</td></tr>\n",
       "</tbody>\n",
       "</table>\n"
      ],
      "text/latex": [
       "\\begin{tabular}{r|llll}\n",
       " A & B & C & D\\\\\n",
       "\\hline\n",
       "\t 100 & 104 & 108 & 112\\\\\n",
       "\t 101 & 105 & 109 & 113\\\\\n",
       "\t 102 & 106 & 110 & 114\\\\\n",
       "\t 103 & 107 & 111 & 115\\\\\n",
       "\\end{tabular}\n"
      ],
      "text/markdown": [
       "\n",
       "| A | B | C | D |\n",
       "|---|---|---|---|\n",
       "| 100 | 104 | 108 | 112 |\n",
       "| 101 | 105 | 109 | 113 |\n",
       "| 102 | 106 | 110 | 114 |\n",
       "| 103 | 107 | 111 | 115 |\n",
       "\n"
      ],
      "text/plain": [
       "  A   B   C   D  \n",
       "1 100 104 108 112\n",
       "2 101 105 109 113\n",
       "3 102 106 110 114\n",
       "4 103 107 111 115"
      ]
     },
     "metadata": {},
     "output_type": "display_data"
    }
   ],
   "source": [
    "mat"
   ]
  },
  {
   "cell_type": "code",
   "execution_count": 126,
   "metadata": {},
   "outputs": [
    {
     "data": {
      "text/html": [
       "<strong>C:</strong> 108"
      ],
      "text/latex": [
       "\\textbf{C:} 108"
      ],
      "text/markdown": [
       "**C:** 108"
      ],
      "text/plain": [
       "  C \n",
       "108 "
      ]
     },
     "metadata": {},
     "output_type": "display_data"
    }
   ],
   "source": [
    "mat[1,][3]"
   ]
  },
  {
   "cell_type": "code",
   "execution_count": 127,
   "metadata": {},
   "outputs": [],
   "source": [
    "mat[1,][3] = 801"
   ]
  },
  {
   "cell_type": "code",
   "execution_count": 128,
   "metadata": {},
   "outputs": [
    {
     "data": {
      "text/html": [
       "<strong>C:</strong> 801"
      ],
      "text/latex": [
       "\\textbf{C:} 801"
      ],
      "text/markdown": [
       "**C:** 801"
      ],
      "text/plain": [
       "  C \n",
       "801 "
      ]
     },
     "metadata": {},
     "output_type": "display_data"
    }
   ],
   "source": [
    "mat[1,][3]"
   ]
  },
  {
   "cell_type": "code",
   "execution_count": 129,
   "metadata": {},
   "outputs": [
    {
     "data": {
      "text/html": [
       "<table>\n",
       "<thead><tr><th scope=col>A</th><th scope=col>B</th><th scope=col>C</th><th scope=col>D</th></tr></thead>\n",
       "<tbody>\n",
       "\t<tr><td>100</td><td>104</td><td>801</td><td>112</td></tr>\n",
       "\t<tr><td>101</td><td>105</td><td>109</td><td>113</td></tr>\n",
       "\t<tr><td>102</td><td>106</td><td>110</td><td>114</td></tr>\n",
       "\t<tr><td>103</td><td>107</td><td>111</td><td>115</td></tr>\n",
       "</tbody>\n",
       "</table>\n"
      ],
      "text/latex": [
       "\\begin{tabular}{r|llll}\n",
       " A & B & C & D\\\\\n",
       "\\hline\n",
       "\t 100 & 104 & 801 & 112\\\\\n",
       "\t 101 & 105 & 109 & 113\\\\\n",
       "\t 102 & 106 & 110 & 114\\\\\n",
       "\t 103 & 107 & 111 & 115\\\\\n",
       "\\end{tabular}\n"
      ],
      "text/markdown": [
       "\n",
       "| A | B | C | D |\n",
       "|---|---|---|---|\n",
       "| 100 | 104 | 801 | 112 |\n",
       "| 101 | 105 | 109 | 113 |\n",
       "| 102 | 106 | 110 | 114 |\n",
       "| 103 | 107 | 111 | 115 |\n",
       "\n"
      ],
      "text/plain": [
       "  A   B   C   D  \n",
       "1 100 104 801 112\n",
       "2 101 105 109 113\n",
       "3 102 106 110 114\n",
       "4 103 107 111 115"
      ]
     },
     "metadata": {},
     "output_type": "display_data"
    }
   ],
   "source": [
    "mat"
   ]
  },
  {
   "cell_type": "code",
   "execution_count": 130,
   "metadata": {},
   "outputs": [
    {
     "data": {
      "text/html": [
       "<dl class=dl-horizontal>\n",
       "\t<dt>1</dt>\n",
       "\t\t<dd>100</dd>\n",
       "\t<dt>2</dt>\n",
       "\t\t<dd>101</dd>\n",
       "\t<dt>3</dt>\n",
       "\t\t<dd>102</dd>\n",
       "\t<dt>4</dt>\n",
       "\t\t<dd>103</dd>\n",
       "</dl>\n"
      ],
      "text/latex": [
       "\\begin{description*}\n",
       "\\item[1] 100\n",
       "\\item[2] 101\n",
       "\\item[3] 102\n",
       "\\item[4] 103\n",
       "\\end{description*}\n"
      ],
      "text/markdown": [
       "1\n",
       ":   1002\n",
       ":   1013\n",
       ":   1024\n",
       ":   103\n",
       "\n"
      ],
      "text/plain": [
       "  1   2   3   4 \n",
       "100 101 102 103 "
      ]
     },
     "metadata": {},
     "output_type": "display_data"
    }
   ],
   "source": [
    "mat[,\"A\"] "
   ]
  },
  {
   "cell_type": "code",
   "execution_count": 131,
   "metadata": {},
   "outputs": [],
   "source": [
    "mat[,\"A\"] =c(1,11,12,13)"
   ]
  },
  {
   "cell_type": "code",
   "execution_count": 132,
   "metadata": {},
   "outputs": [
    {
     "data": {
      "text/html": [
       "<table>\n",
       "<thead><tr><th scope=col>A</th><th scope=col>B</th><th scope=col>C</th><th scope=col>D</th></tr></thead>\n",
       "<tbody>\n",
       "\t<tr><td> 1 </td><td>104</td><td>801</td><td>112</td></tr>\n",
       "\t<tr><td>11 </td><td>105</td><td>109</td><td>113</td></tr>\n",
       "\t<tr><td>12 </td><td>106</td><td>110</td><td>114</td></tr>\n",
       "\t<tr><td>13 </td><td>107</td><td>111</td><td>115</td></tr>\n",
       "</tbody>\n",
       "</table>\n"
      ],
      "text/latex": [
       "\\begin{tabular}{r|llll}\n",
       " A & B & C & D\\\\\n",
       "\\hline\n",
       "\t  1  & 104 & 801 & 112\\\\\n",
       "\t 11  & 105 & 109 & 113\\\\\n",
       "\t 12  & 106 & 110 & 114\\\\\n",
       "\t 13  & 107 & 111 & 115\\\\\n",
       "\\end{tabular}\n"
      ],
      "text/markdown": [
       "\n",
       "| A | B | C | D |\n",
       "|---|---|---|---|\n",
       "|  1  | 104 | 801 | 112 |\n",
       "| 11  | 105 | 109 | 113 |\n",
       "| 12  | 106 | 110 | 114 |\n",
       "| 13  | 107 | 111 | 115 |\n",
       "\n"
      ],
      "text/plain": [
       "  A  B   C   D  \n",
       "1  1 104 801 112\n",
       "2 11 105 109 113\n",
       "3 12 106 110 114\n",
       "4 13 107 111 115"
      ]
     },
     "metadata": {},
     "output_type": "display_data"
    }
   ],
   "source": [
    "mat"
   ]
  },
  {
   "cell_type": "code",
   "execution_count": 133,
   "metadata": {},
   "outputs": [
    {
     "data": {
      "text/html": [
       "'numeric'"
      ],
      "text/latex": [
       "'numeric'"
      ],
      "text/markdown": [
       "'numeric'"
      ],
      "text/plain": [
       "[1] \"numeric\""
      ]
     },
     "metadata": {},
     "output_type": "display_data"
    }
   ],
   "source": [
    "class(mat[1])"
   ]
  },
  {
   "cell_type": "code",
   "execution_count": 134,
   "metadata": {},
   "outputs": [],
   "source": [
    "mat[10] =\"AB\""
   ]
  },
  {
   "cell_type": "code",
   "execution_count": 135,
   "metadata": {},
   "outputs": [
    {
     "data": {
      "text/html": [
       "<table>\n",
       "<thead><tr><th scope=col>A</th><th scope=col>B</th><th scope=col>C</th><th scope=col>D</th></tr></thead>\n",
       "<tbody>\n",
       "\t<tr><td>1  </td><td>104</td><td>801</td><td>112</td></tr>\n",
       "\t<tr><td>11 </td><td>105</td><td>AB </td><td>113</td></tr>\n",
       "\t<tr><td>12 </td><td>106</td><td>110</td><td>114</td></tr>\n",
       "\t<tr><td>13 </td><td>107</td><td>111</td><td>115</td></tr>\n",
       "</tbody>\n",
       "</table>\n"
      ],
      "text/latex": [
       "\\begin{tabular}{r|llll}\n",
       " A & B & C & D\\\\\n",
       "\\hline\n",
       "\t 1   & 104 & 801 & 112\\\\\n",
       "\t 11  & 105 & AB  & 113\\\\\n",
       "\t 12  & 106 & 110 & 114\\\\\n",
       "\t 13  & 107 & 111 & 115\\\\\n",
       "\\end{tabular}\n"
      ],
      "text/markdown": [
       "\n",
       "| A | B | C | D |\n",
       "|---|---|---|---|\n",
       "| 1   | 104 | 801 | 112 |\n",
       "| 11  | 105 | AB  | 113 |\n",
       "| 12  | 106 | 110 | 114 |\n",
       "| 13  | 107 | 111 | 115 |\n",
       "\n"
      ],
      "text/plain": [
       "  A  B   C   D  \n",
       "1 1  104 801 112\n",
       "2 11 105 AB  113\n",
       "3 12 106 110 114\n",
       "4 13 107 111 115"
      ]
     },
     "metadata": {},
     "output_type": "display_data"
    }
   ],
   "source": [
    "mat"
   ]
  },
  {
   "cell_type": "code",
   "execution_count": 136,
   "metadata": {},
   "outputs": [
    {
     "data": {
      "text/html": [
       "'character'"
      ],
      "text/latex": [
       "'character'"
      ],
      "text/markdown": [
       "'character'"
      ],
      "text/plain": [
       "[1] \"character\""
      ]
     },
     "metadata": {},
     "output_type": "display_data"
    }
   ],
   "source": [
    "class(mat[10])"
   ]
  },
  {
   "cell_type": "code",
   "execution_count": 137,
   "metadata": {},
   "outputs": [
    {
     "data": {
      "text/html": [
       "'character'"
      ],
      "text/latex": [
       "'character'"
      ],
      "text/markdown": [
       "'character'"
      ],
      "text/plain": [
       "[1] \"character\""
      ]
     },
     "metadata": {},
     "output_type": "display_data"
    }
   ],
   "source": [
    "class(mat[1])"
   ]
  },
  {
   "cell_type": "markdown",
   "metadata": {},
   "source": [
    "#### Arithmetic operations on Matrix"
   ]
  },
  {
   "cell_type": "code",
   "execution_count": 138,
   "metadata": {},
   "outputs": [],
   "source": [
    "mat1 = matrix(1:9, nrow=3,ncol=3)"
   ]
  },
  {
   "cell_type": "code",
   "execution_count": 139,
   "metadata": {},
   "outputs": [
    {
     "data": {
      "text/html": [
       "<table>\n",
       "<tbody>\n",
       "\t<tr><td>1</td><td>4</td><td>7</td></tr>\n",
       "\t<tr><td>2</td><td>5</td><td>8</td></tr>\n",
       "\t<tr><td>3</td><td>6</td><td>9</td></tr>\n",
       "</tbody>\n",
       "</table>\n"
      ],
      "text/latex": [
       "\\begin{tabular}{lll}\n",
       "\t 1 & 4 & 7\\\\\n",
       "\t 2 & 5 & 8\\\\\n",
       "\t 3 & 6 & 9\\\\\n",
       "\\end{tabular}\n"
      ],
      "text/markdown": [
       "\n",
       "| 1 | 4 | 7 |\n",
       "| 2 | 5 | 8 |\n",
       "| 3 | 6 | 9 |\n",
       "\n"
      ],
      "text/plain": [
       "     [,1] [,2] [,3]\n",
       "[1,] 1    4    7   \n",
       "[2,] 2    5    8   \n",
       "[3,] 3    6    9   "
      ]
     },
     "metadata": {},
     "output_type": "display_data"
    }
   ],
   "source": [
    "mat1"
   ]
  },
  {
   "cell_type": "code",
   "execution_count": 140,
   "metadata": {},
   "outputs": [],
   "source": [
    "mat2 = matrix(10:18,nrow=3,ncol=3)"
   ]
  },
  {
   "cell_type": "code",
   "execution_count": 141,
   "metadata": {},
   "outputs": [
    {
     "data": {
      "text/html": [
       "<table>\n",
       "<tbody>\n",
       "\t<tr><td>10</td><td>13</td><td>16</td></tr>\n",
       "\t<tr><td>11</td><td>14</td><td>17</td></tr>\n",
       "\t<tr><td>12</td><td>15</td><td>18</td></tr>\n",
       "</tbody>\n",
       "</table>\n"
      ],
      "text/latex": [
       "\\begin{tabular}{lll}\n",
       "\t 10 & 13 & 16\\\\\n",
       "\t 11 & 14 & 17\\\\\n",
       "\t 12 & 15 & 18\\\\\n",
       "\\end{tabular}\n"
      ],
      "text/markdown": [
       "\n",
       "| 10 | 13 | 16 |\n",
       "| 11 | 14 | 17 |\n",
       "| 12 | 15 | 18 |\n",
       "\n"
      ],
      "text/plain": [
       "     [,1] [,2] [,3]\n",
       "[1,] 10   13   16  \n",
       "[2,] 11   14   17  \n",
       "[3,] 12   15   18  "
      ]
     },
     "metadata": {},
     "output_type": "display_data"
    }
   ],
   "source": [
    "mat2"
   ]
  },
  {
   "cell_type": "code",
   "execution_count": 142,
   "metadata": {},
   "outputs": [
    {
     "data": {
      "text/html": [
       "<table>\n",
       "<tbody>\n",
       "\t<tr><td>11</td><td>17</td><td>23</td></tr>\n",
       "\t<tr><td>13</td><td>19</td><td>25</td></tr>\n",
       "\t<tr><td>15</td><td>21</td><td>27</td></tr>\n",
       "</tbody>\n",
       "</table>\n"
      ],
      "text/latex": [
       "\\begin{tabular}{lll}\n",
       "\t 11 & 17 & 23\\\\\n",
       "\t 13 & 19 & 25\\\\\n",
       "\t 15 & 21 & 27\\\\\n",
       "\\end{tabular}\n"
      ],
      "text/markdown": [
       "\n",
       "| 11 | 17 | 23 |\n",
       "| 13 | 19 | 25 |\n",
       "| 15 | 21 | 27 |\n",
       "\n"
      ],
      "text/plain": [
       "     [,1] [,2] [,3]\n",
       "[1,] 11   17   23  \n",
       "[2,] 13   19   25  \n",
       "[3,] 15   21   27  "
      ]
     },
     "metadata": {},
     "output_type": "display_data"
    }
   ],
   "source": [
    "#sum of matrices\n",
    "mat1 + mat2 #element wise sum will happen"
   ]
  },
  {
   "cell_type": "code",
   "execution_count": 143,
   "metadata": {},
   "outputs": [
    {
     "data": {
      "text/html": [
       "<table>\n",
       "<tbody>\n",
       "\t<tr><td>10 </td><td>52 </td><td>112</td></tr>\n",
       "\t<tr><td>22 </td><td>70 </td><td>136</td></tr>\n",
       "\t<tr><td>36 </td><td>90 </td><td>162</td></tr>\n",
       "</tbody>\n",
       "</table>\n"
      ],
      "text/latex": [
       "\\begin{tabular}{lll}\n",
       "\t 10  & 52  & 112\\\\\n",
       "\t 22  & 70  & 136\\\\\n",
       "\t 36  & 90  & 162\\\\\n",
       "\\end{tabular}\n"
      ],
      "text/markdown": [
       "\n",
       "| 10  | 52  | 112 |\n",
       "| 22  | 70  | 136 |\n",
       "| 36  | 90  | 162 |\n",
       "\n"
      ],
      "text/plain": [
       "     [,1] [,2] [,3]\n",
       "[1,] 10   52   112 \n",
       "[2,] 22   70   136 \n",
       "[3,] 36   90   162 "
      ]
     },
     "metadata": {},
     "output_type": "display_data"
    }
   ],
   "source": [
    "#element wise matrix multiplication using * operator\n",
    "\n",
    "mat1 * mat2 "
   ]
  },
  {
   "cell_type": "code",
   "execution_count": 144,
   "metadata": {},
   "outputs": [],
   "source": [
    "# let try to add matrx of different sizes\n",
    "\n",
    "mat3 <- matrix(1:6,nrow=3)"
   ]
  },
  {
   "cell_type": "code",
   "execution_count": 145,
   "metadata": {},
   "outputs": [
    {
     "data": {
      "text/html": [
       "<table>\n",
       "<tbody>\n",
       "\t<tr><td>1</td><td>4</td></tr>\n",
       "\t<tr><td>2</td><td>5</td></tr>\n",
       "\t<tr><td>3</td><td>6</td></tr>\n",
       "</tbody>\n",
       "</table>\n"
      ],
      "text/latex": [
       "\\begin{tabular}{ll}\n",
       "\t 1 & 4\\\\\n",
       "\t 2 & 5\\\\\n",
       "\t 3 & 6\\\\\n",
       "\\end{tabular}\n"
      ],
      "text/markdown": [
       "\n",
       "| 1 | 4 |\n",
       "| 2 | 5 |\n",
       "| 3 | 6 |\n",
       "\n"
      ],
      "text/plain": [
       "     [,1] [,2]\n",
       "[1,] 1    4   \n",
       "[2,] 2    5   \n",
       "[3,] 3    6   "
      ]
     },
     "metadata": {},
     "output_type": "display_data"
    }
   ],
   "source": [
    "mat3"
   ]
  },
  {
   "cell_type": "code",
   "execution_count": 146,
   "metadata": {},
   "outputs": [
    {
     "ename": "ERROR",
     "evalue": "Error in mat1 + mat3: non-conformable arrays\n",
     "output_type": "error",
     "traceback": [
      "Error in mat1 + mat3: non-conformable arrays\nTraceback:\n"
     ]
    }
   ],
   "source": [
    "mat1 + mat3"
   ]
  },
  {
   "cell_type": "code",
   "execution_count": 147,
   "metadata": {},
   "outputs": [
    {
     "ename": "ERROR",
     "evalue": "Error in mat1 * mat3: non-conformable arrays\n",
     "output_type": "error",
     "traceback": [
      "Error in mat1 * mat3: non-conformable arrays\nTraceback:\n"
     ]
    }
   ],
   "source": [
    "mat1 * mat3"
   ]
  },
  {
   "cell_type": "code",
   "execution_count": 148,
   "metadata": {},
   "outputs": [],
   "source": [
    "#### Matrix Multiplication"
   ]
  },
  {
   "cell_type": "code",
   "execution_count": 149,
   "metadata": {},
   "outputs": [
    {
     "data": {
      "text/html": [
       "<table>\n",
       "<tbody>\n",
       "\t<tr><td>138</td><td>174</td><td>210</td></tr>\n",
       "\t<tr><td>171</td><td>216</td><td>261</td></tr>\n",
       "\t<tr><td>204</td><td>258</td><td>312</td></tr>\n",
       "</tbody>\n",
       "</table>\n"
      ],
      "text/latex": [
       "\\begin{tabular}{lll}\n",
       "\t 138 & 174 & 210\\\\\n",
       "\t 171 & 216 & 261\\\\\n",
       "\t 204 & 258 & 312\\\\\n",
       "\\end{tabular}\n"
      ],
      "text/markdown": [
       "\n",
       "| 138 | 174 | 210 |\n",
       "| 171 | 216 | 261 |\n",
       "| 204 | 258 | 312 |\n",
       "\n"
      ],
      "text/plain": [
       "     [,1] [,2] [,3]\n",
       "[1,] 138  174  210 \n",
       "[2,] 171  216  261 \n",
       "[3,] 204  258  312 "
      ]
     },
     "metadata": {},
     "output_type": "display_data"
    }
   ],
   "source": [
    "mat1 %*% mat2"
   ]
  },
  {
   "cell_type": "code",
   "execution_count": 150,
   "metadata": {},
   "outputs": [
    {
     "ename": "ERROR",
     "evalue": "Error in mat3 %*% mat1: non-conformable arguments\n",
     "output_type": "error",
     "traceback": [
      "Error in mat3 %*% mat1: non-conformable arguments\nTraceback:\n"
     ]
    }
   ],
   "source": [
    "#let's try to do matrix multiplication with matrices of different size\n",
    "\n",
    " mat3 %*% mat1"
   ]
  },
  {
   "cell_type": "markdown",
   "metadata": {},
   "source": [
    "#### Transposing matrix"
   ]
  },
  {
   "cell_type": "code",
   "execution_count": 151,
   "metadata": {},
   "outputs": [
    {
     "data": {
      "text/html": [
       "<table>\n",
       "<tbody>\n",
       "\t<tr><td>1</td><td>4</td></tr>\n",
       "\t<tr><td>2</td><td>5</td></tr>\n",
       "\t<tr><td>3</td><td>6</td></tr>\n",
       "</tbody>\n",
       "</table>\n"
      ],
      "text/latex": [
       "\\begin{tabular}{ll}\n",
       "\t 1 & 4\\\\\n",
       "\t 2 & 5\\\\\n",
       "\t 3 & 6\\\\\n",
       "\\end{tabular}\n"
      ],
      "text/markdown": [
       "\n",
       "| 1 | 4 |\n",
       "| 2 | 5 |\n",
       "| 3 | 6 |\n",
       "\n"
      ],
      "text/plain": [
       "     [,1] [,2]\n",
       "[1,] 1    4   \n",
       "[2,] 2    5   \n",
       "[3,] 3    6   "
      ]
     },
     "metadata": {},
     "output_type": "display_data"
    }
   ],
   "source": [
    "mat3"
   ]
  },
  {
   "cell_type": "code",
   "execution_count": 152,
   "metadata": {},
   "outputs": [],
   "source": [
    "mat3_transpose = t(mat3)"
   ]
  },
  {
   "cell_type": "code",
   "execution_count": 153,
   "metadata": {},
   "outputs": [
    {
     "data": {
      "text/html": [
       "<table>\n",
       "<tbody>\n",
       "\t<tr><td>1</td><td>2</td><td>3</td></tr>\n",
       "\t<tr><td>4</td><td>5</td><td>6</td></tr>\n",
       "</tbody>\n",
       "</table>\n"
      ],
      "text/latex": [
       "\\begin{tabular}{lll}\n",
       "\t 1 & 2 & 3\\\\\n",
       "\t 4 & 5 & 6\\\\\n",
       "\\end{tabular}\n"
      ],
      "text/markdown": [
       "\n",
       "| 1 | 2 | 3 |\n",
       "| 4 | 5 | 6 |\n",
       "\n"
      ],
      "text/plain": [
       "     [,1] [,2] [,3]\n",
       "[1,] 1    2    3   \n",
       "[2,] 4    5    6   "
      ]
     },
     "metadata": {},
     "output_type": "display_data"
    }
   ],
   "source": [
    "mat3_transpose"
   ]
  },
  {
   "cell_type": "code",
   "execution_count": 154,
   "metadata": {},
   "outputs": [
    {
     "data": {
      "text/html": [
       "<table>\n",
       "<tbody>\n",
       "\t<tr><td>14 </td><td>32 </td><td> 50</td></tr>\n",
       "\t<tr><td>32 </td><td>77 </td><td>122</td></tr>\n",
       "</tbody>\n",
       "</table>\n"
      ],
      "text/latex": [
       "\\begin{tabular}{lll}\n",
       "\t 14  & 32  &  50\\\\\n",
       "\t 32  & 77  & 122\\\\\n",
       "\\end{tabular}\n"
      ],
      "text/markdown": [
       "\n",
       "| 14  | 32  |  50 |\n",
       "| 32  | 77  | 122 |\n",
       "\n"
      ],
      "text/plain": [
       "     [,1] [,2] [,3]\n",
       "[1,] 14   32    50 \n",
       "[2,] 32   77   122 "
      ]
     },
     "metadata": {},
     "output_type": "display_data"
    }
   ],
   "source": [
    "mat3_transpose %*% mat1"
   ]
  },
  {
   "cell_type": "markdown",
   "metadata": {},
   "source": [
    "#### Applying Functions to Matrix Rows and Columns"
   ]
  },
  {
   "cell_type": "markdown",
   "metadata": {},
   "source": [
    "#### Using the apply() Function\n",
    "This is the general form of apply for matrices:\n",
    "\n",
    "apply(m,dimcode,f,fargs)\n",
    "\n",
    "where the arguments are as follows:\n",
    "\n",
    "• m is the matrix.\n",
    "\n",
    "• dimcode is the dimension, equal to 1 if the function applies to rows or 2\n",
    "for columns.\n",
    "\n",
    "• f is the function to be applied.\n",
    "\n",
    "• fargs is an optional set of arguments to be supplied to f."
   ]
  },
  {
   "cell_type": "code",
   "execution_count": 155,
   "metadata": {},
   "outputs": [],
   "source": [
    "m = matrix(1:6, nrow = 3)"
   ]
  },
  {
   "cell_type": "code",
   "execution_count": 156,
   "metadata": {},
   "outputs": [
    {
     "data": {
      "text/html": [
       "<table>\n",
       "<tbody>\n",
       "\t<tr><td>1</td><td>4</td></tr>\n",
       "\t<tr><td>2</td><td>5</td></tr>\n",
       "\t<tr><td>3</td><td>6</td></tr>\n",
       "</tbody>\n",
       "</table>\n"
      ],
      "text/latex": [
       "\\begin{tabular}{ll}\n",
       "\t 1 & 4\\\\\n",
       "\t 2 & 5\\\\\n",
       "\t 3 & 6\\\\\n",
       "\\end{tabular}\n"
      ],
      "text/markdown": [
       "\n",
       "| 1 | 4 |\n",
       "| 2 | 5 |\n",
       "| 3 | 6 |\n",
       "\n"
      ],
      "text/plain": [
       "     [,1] [,2]\n",
       "[1,] 1    4   \n",
       "[2,] 2    5   \n",
       "[3,] 3    6   "
      ]
     },
     "metadata": {},
     "output_type": "display_data"
    }
   ],
   "source": [
    "m"
   ]
  },
  {
   "cell_type": "code",
   "execution_count": 157,
   "metadata": {},
   "outputs": [
    {
     "data": {
      "text/html": [
       "<ol class=list-inline>\n",
       "\t<li>2</li>\n",
       "\t<li>5</li>\n",
       "</ol>\n"
      ],
      "text/latex": [
       "\\begin{enumerate*}\n",
       "\\item 2\n",
       "\\item 5\n",
       "\\end{enumerate*}\n"
      ],
      "text/markdown": [
       "1. 2\n",
       "2. 5\n",
       "\n",
       "\n"
      ],
      "text/plain": [
       "[1] 2 5"
      ]
     },
     "metadata": {},
     "output_type": "display_data"
    }
   ],
   "source": [
    "# apply the R function mean() to each column of a matrix\n",
    "\n",
    "apply(m,2,mean)  # 2 represents columns   1 represents rows"
   ]
  },
  {
   "cell_type": "markdown",
   "metadata": {},
   "source": [
    "#### Arrays\n",
    "\n",
    "Arrays are matrices with more than 2 dimensions i.e. arrays are multi dimensional matrices.\n"
   ]
  },
  {
   "cell_type": "code",
   "execution_count": 158,
   "metadata": {},
   "outputs": [],
   "source": [
    "arr = array(1:12,dim=c(2,2,3)) #dimension represents rows,columns and number of matrices\n",
    "\n",
    "#so we basically are creating 3 matrices of dim 2*2"
   ]
  },
  {
   "cell_type": "code",
   "execution_count": 159,
   "metadata": {},
   "outputs": [
    {
     "data": {
      "text/html": [
       "<ol class=list-inline>\n",
       "\t<li>1</li>\n",
       "\t<li>2</li>\n",
       "\t<li>3</li>\n",
       "\t<li>4</li>\n",
       "\t<li>5</li>\n",
       "\t<li>6</li>\n",
       "\t<li>7</li>\n",
       "\t<li>8</li>\n",
       "\t<li>9</li>\n",
       "\t<li>10</li>\n",
       "\t<li>11</li>\n",
       "\t<li>12</li>\n",
       "</ol>\n"
      ],
      "text/latex": [
       "\\begin{enumerate*}\n",
       "\\item 1\n",
       "\\item 2\n",
       "\\item 3\n",
       "\\item 4\n",
       "\\item 5\n",
       "\\item 6\n",
       "\\item 7\n",
       "\\item 8\n",
       "\\item 9\n",
       "\\item 10\n",
       "\\item 11\n",
       "\\item 12\n",
       "\\end{enumerate*}\n"
      ],
      "text/markdown": [
       "1. 1\n",
       "2. 2\n",
       "3. 3\n",
       "4. 4\n",
       "5. 5\n",
       "6. 6\n",
       "7. 7\n",
       "8. 8\n",
       "9. 9\n",
       "10. 10\n",
       "11. 11\n",
       "12. 12\n",
       "\n",
       "\n"
      ],
      "text/plain": [
       ", , 1\n",
       "\n",
       "     [,1] [,2]\n",
       "[1,]    1    3\n",
       "[2,]    2    4\n",
       "\n",
       ", , 2\n",
       "\n",
       "     [,1] [,2]\n",
       "[1,]    5    7\n",
       "[2,]    6    8\n",
       "\n",
       ", , 3\n",
       "\n",
       "     [,1] [,2]\n",
       "[1,]    9   11\n",
       "[2,]   10   12\n"
      ]
     },
     "metadata": {},
     "output_type": "display_data"
    }
   ],
   "source": [
    "arr"
   ]
  },
  {
   "cell_type": "code",
   "execution_count": 160,
   "metadata": {},
   "outputs": [
    {
     "name": "stdout",
     "output_type": "stream",
     "text": [
      ", , 1\n",
      "\n",
      "     [,1] [,2]\n",
      "[1,]    1    3\n",
      "[2,]    2    4\n",
      "\n",
      ", , 2\n",
      "\n",
      "     [,1] [,2]\n",
      "[1,]    5    7\n",
      "[2,]    6    8\n",
      "\n",
      ", , 3\n",
      "\n",
      "     [,1] [,2]\n",
      "[1,]    9   11\n",
      "[2,]   10   12\n",
      "\n"
     ]
    }
   ],
   "source": [
    "print(arr)"
   ]
  },
  {
   "cell_type": "markdown",
   "metadata": {},
   "source": [
    "#### Naming Col and Rows¶"
   ]
  },
  {
   "cell_type": "code",
   "execution_count": 43,
   "metadata": {},
   "outputs": [],
   "source": [
    "vec1 = c(1,2,3,4)\n",
    "vec2 = c(7,8,9,10)\n",
    "\n",
    "colnames = c(\"A\",\"B\")\n",
    "rownames = c(\"a\",\"b\")\n",
    "\n",
    "mat_names = c(\"Mat1\",\"Mat2\")"
   ]
  },
  {
   "cell_type": "code",
   "execution_count": 44,
   "metadata": {},
   "outputs": [],
   "source": [
    "arr_mat = array(c(vec1,vec2),dim = c(2,2,2), dimnames = list(rownames,colnames,mat_names))"
   ]
  },
  {
   "cell_type": "code",
   "execution_count": 45,
   "metadata": {},
   "outputs": [
    {
     "name": "stdout",
     "output_type": "stream",
     "text": [
      ", , Mat1\n",
      "\n",
      "  A B\n",
      "a 1 3\n",
      "b 2 4\n",
      "\n",
      ", , Mat2\n",
      "\n",
      "  A  B\n",
      "a 7  9\n",
      "b 8 10\n",
      "\n"
     ]
    }
   ],
   "source": [
    "print(arr_mat)"
   ]
  },
  {
   "cell_type": "markdown",
   "metadata": {},
   "source": [
    "#### Accessing elements from arrays"
   ]
  },
  {
   "cell_type": "code",
   "execution_count": 46,
   "metadata": {},
   "outputs": [
    {
     "data": {
      "text/html": [
       "1"
      ],
      "text/latex": [
       "1"
      ],
      "text/markdown": [
       "1"
      ],
      "text/plain": [
       "[1] 1"
      ]
     },
     "metadata": {},
     "output_type": "display_data"
    }
   ],
   "source": [
    "arr_mat[1,1,1] #first row first column from first matrix"
   ]
  },
  {
   "cell_type": "code",
   "execution_count": 47,
   "metadata": {},
   "outputs": [
    {
     "data": {
      "text/html": [
       "7"
      ],
      "text/latex": [
       "7"
      ],
      "text/markdown": [
       "7"
      ],
      "text/plain": [
       "[1] 7"
      ]
     },
     "metadata": {},
     "output_type": "display_data"
    }
   ],
   "source": [
    "arr_mat[1,1,2] #first row first column from second matrix"
   ]
  },
  {
   "cell_type": "code",
   "execution_count": 48,
   "metadata": {},
   "outputs": [
    {
     "data": {
      "text/html": [
       "<dl class=dl-horizontal>\n",
       "\t<dt>A</dt>\n",
       "\t\t<dd>8</dd>\n",
       "\t<dt>B</dt>\n",
       "\t\t<dd>10</dd>\n",
       "</dl>\n"
      ],
      "text/latex": [
       "\\begin{description*}\n",
       "\\item[A] 8\n",
       "\\item[B] 10\n",
       "\\end{description*}\n"
      ],
      "text/markdown": [
       "A\n",
       ":   8B\n",
       ":   10\n",
       "\n"
      ],
      "text/plain": [
       " A  B \n",
       " 8 10 "
      ]
     },
     "metadata": {},
     "output_type": "display_data"
    }
   ],
   "source": [
    "arr_mat[2,,2] #whole second row from second matrix"
   ]
  },
  {
   "cell_type": "code",
   "execution_count": 49,
   "metadata": {},
   "outputs": [
    {
     "data": {
      "text/html": [
       "<table>\n",
       "<thead><tr><th></th><th scope=col>A</th><th scope=col>B</th></tr></thead>\n",
       "<tbody>\n",
       "\t<tr><th scope=row>a</th><td>1</td><td>3</td></tr>\n",
       "\t<tr><th scope=row>b</th><td>2</td><td>4</td></tr>\n",
       "</tbody>\n",
       "</table>\n"
      ],
      "text/latex": [
       "\\begin{tabular}{r|ll}\n",
       "  & A & B\\\\\n",
       "\\hline\n",
       "\ta & 1 & 3\\\\\n",
       "\tb & 2 & 4\\\\\n",
       "\\end{tabular}\n"
      ],
      "text/markdown": [
       "\n",
       "| <!--/--> | A | B |\n",
       "|---|---|---|\n",
       "| a | 1 | 3 |\n",
       "| b | 2 | 4 |\n",
       "\n"
      ],
      "text/plain": [
       "  A B\n",
       "a 1 3\n",
       "b 2 4"
      ]
     },
     "metadata": {},
     "output_type": "display_data"
    }
   ],
   "source": [
    "arr_mat[,,1] #all elements of first matrix"
   ]
  },
  {
   "cell_type": "code",
   "execution_count": 50,
   "metadata": {},
   "outputs": [
    {
     "data": {
      "text/html": [
       "<dl class=dl-horizontal>\n",
       "\t<dt>Mat1</dt>\n",
       "\t\t<dd>1</dd>\n",
       "\t<dt>Mat2</dt>\n",
       "\t\t<dd>7</dd>\n",
       "</dl>\n"
      ],
      "text/latex": [
       "\\begin{description*}\n",
       "\\item[Mat1] 1\n",
       "\\item[Mat2] 7\n",
       "\\end{description*}\n"
      ],
      "text/markdown": [
       "Mat1\n",
       ":   1Mat2\n",
       ":   7\n",
       "\n"
      ],
      "text/plain": [
       "Mat1 Mat2 \n",
       "   1    7 "
      ]
     },
     "metadata": {},
     "output_type": "display_data"
    }
   ],
   "source": [
    "arr_mat[1,1,]"
   ]
  },
  {
   "cell_type": "code",
   "execution_count": null,
   "metadata": {},
   "outputs": [],
   "source": []
  }
 ],
 "metadata": {
  "kernelspec": {
   "display_name": "R",
   "language": "R",
   "name": "ir"
  },
  "language_info": {
   "codemirror_mode": "r",
   "file_extension": ".r",
   "mimetype": "text/x-r-source",
   "name": "R",
   "pygments_lexer": "r",
   "version": "3.6.1"
  }
 },
 "nbformat": 4,
 "nbformat_minor": 2
}
